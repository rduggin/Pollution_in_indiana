{
 "cells": [
  {
   "cell_type": "markdown",
   "metadata": {},
   "source": [
    "Identify amount of calls for poor/unhealthy days-Comparative Study- Natalie\n"
   ]
  },
  {
   "cell_type": "code",
   "execution_count": 2,
   "metadata": {},
   "outputs": [
    {
     "data": {
      "text/plain": [
       "dict_keys(['DB username', 'DB databasename', 'DB password'])"
      ]
     },
     "execution_count": 2,
     "metadata": {},
     "output_type": "execute_result"
    }
   ],
   "source": [
    "# please create a new file in jupyterhub named \"project db sql access\" and change the database name to \"I501Fa21grp06_db\"\n",
    "myvars = {}\n",
    "with open(\"project db sql access\") as myfile:\n",
    "    for line in myfile:\n",
    "        name, var = line.partition(\":\")[::2]\n",
    "        myvars[name.strip()] = var.strip()\n",
    "myvars.keys()"
   ]
  },
  {
   "cell_type": "code",
   "execution_count": 3,
   "metadata": {},
   "outputs": [
    {
     "name": "stdout",
     "output_type": "stream",
     "text": [
      "Total hospitalizations on poor AQI days: 1277\n",
      "Total poor AQI days: 381\n",
      "Total days between 2015 and 2018: 1461\n",
      "Rate of hospitalizations per poor air quality days: 3.351706036745407\n"
     ]
    }
   ],
   "source": [
    "import MySQLdb\n",
    "import numpy as np\n",
    "conn = MySQLdb.connect(host=\"localhost\", user=myvars['DB username'], passwd=myvars['DB password'], db=myvars['DB databasename'])\n",
    "cursor = conn.cursor()\n",
    "cursor.execute('select `Category`, `AQI` FROM `AQIEMS` where `Category` LIKE \"%Unhealthy%\"')\n",
    "rows = cursor.fetchall()\n",
    "cursor.execute('select * FROM `AQI` where `Category` LIKE \"%Unhealthy%\"')\n",
    "rows1 = cursor.fetchall()\n",
    "\n",
    "cursor.execute('select `Category`, `AQI` FROM `AQI` where `Category` LIKE \"%Unhealthy%\"')\n",
    "rows1 = cursor.fetchall()\n",
    "poorAQIdays= (len(rows1))\n",
    "poorAQIhosp=(len(rows))\n",
    "poorAQIrate = np.true_divide(poorAQIhosp,poorAQIdays)\n",
    "print('Total hospitalizations on poor AQI days:', poorAQIhosp)\n",
    "print('Total poor AQI days:', poorAQIdays)\n",
    "print('Total days between 2015 and 2018:', ((365*4)+1))\n",
    "print('Rate of hospitalizations per poor air quality days:',(poorAQIrate))"
   ]
  },
  {
   "cell_type": "code",
   "execution_count": 4,
   "metadata": {},
   "outputs": [
    {
     "name": "stdout",
     "output_type": "stream",
     "text": [
      "36129\n",
      "8933\n",
      "Rate of hospitalizations moderate air quality days: 4.0444419567894325\n"
     ]
    }
   ],
   "source": [
    "cursor.execute('select `Category`, `AQI` FROM `AQI` where `Category` = \"Moderate\"')\n",
    "rows4 = cursor.fetchall()\n",
    "cursor.execute('select * FROM `AQIEMS` where `Category` = \"Moderate\"')\n",
    "rows5 = cursor.fetchall()\n",
    "moderateAQIdays= (len(rows4))\n",
    "moderatehosp=(len(rows5))\n",
    "moderateAQIrate = np.true_divide(moderatehosp,moderateAQIdays)\n",
    "print(moderatehosp)\n",
    "print(moderateAQIdays)\n",
    "print('Rate of hospitalizations moderate air quality days:',(moderateAQIrate))"
   ]
  },
  {
   "cell_type": "code",
   "execution_count": 5,
   "metadata": {},
   "outputs": [
    {
     "name": "stdout",
     "output_type": "stream",
     "text": [
      "101748\n",
      "41172\n",
      "Rate of hospitalizations per good air quality days: 2.471291168755465\n"
     ]
    }
   ],
   "source": [
    "cursor.execute('select `Category`, `AQI` FROM `AQI` where `Category` = \"Good\"')\n",
    "rows2 = cursor.fetchall()\n",
    "cursor.execute('select `Category`, `AQI` FROM `AQIEMS` where `Category` = \"Good\"')\n",
    "rows3 = cursor.fetchall()\n",
    "goodAQIdays= (len(rows2))\n",
    "goodAQIhosp=(len(rows3))\n",
    "goodAQIrate = np.true_divide(goodAQIhosp,goodAQIdays)\n",
    "print(goodAQIhosp)\n",
    "print(goodAQIdays)\n",
    "print('Rate of hospitalizations per good air quality days:',(goodAQIrate))"
   ]
  },
  {
   "cell_type": "code",
   "execution_count": 6,
   "metadata": {},
   "outputs": [
    {
     "name": "stdout",
     "output_type": "stream",
     "text": [
      "139154\n",
      "50486\n",
      "Rate of hospitalizations over all air quality days: 2.7562888721625796\n"
     ]
    }
   ],
   "source": [
    "cursor.execute('select * FROM `AQI`')\n",
    "rows6 = cursor.fetchall()\n",
    "cursor.execute('select * FROM `AQIEMS`')\n",
    "rows7 = cursor.fetchall()\n",
    "allAQIdays= (len(rows6))\n",
    "allhosp=(len(rows7))\n",
    "allAQIrate = np.true_divide(allhosp,allAQIdays)\n",
    "print(allhosp)\n",
    "print(allAQIdays)\n",
    "print('Rate of hospitalizations over all air quality days:',(allAQIrate))"
   ]
  },
  {
   "cell_type": "code",
   "execution_count": 30,
   "metadata": {},
   "outputs": [
    {
     "data": {
      "image/png": "[encoded data removed]",
      "text/plain": [
       "<Figure size 432x288 with 1 Axes>"
      ]
     },
     "metadata": {
      "needs_background": "light"
     },
     "output_type": "display_data"
    }
   ],
   "source": [
    "import matplotlib as mpl\n",
    "import matplotlib.pyplot as plt\n",
    "x = ['Good','Moderate','Poor','All']\n",
    "y = [goodAQIrate,moderateAQIrate,poorAQIrate,allAQIrate]\n",
    "fig = plt.figure()\n",
    "ax = fig.add_axes([0,0,1,1])\n",
    "ax.bar(x,y)\n",
    "plt.xlabel('Hospitalization Rates and Air Quality')\n",
    "plt.ylabel('Air Quality')\n",
    "plt.title('Hospitalizations per day')\n",
    "plt.show()"
   ]
  },
  {
   "cell_type": "code",
   "execution_count": 138,
   "metadata": {},
   "outputs": [
    {
     "data": {
      "text/plain": [
       "(('CO', Decimal('3.0000')),\n",
       " ('NO2', Decimal('28.1699')),\n",
       " ('Ozone', Decimal('36.2899')),\n",
       " ('PM10', Decimal('31.1914')),\n",
       " ('PM2.5', Decimal('34.2113')),\n",
       " ('SO2', Decimal('8.6729')))"
      ]
     },
     "execution_count": 138,
     "metadata": {},
     "output_type": "execute_result"
    }
   ],
   "source": [
    "cursor.execute('SELECT `Defining Parameter`, AVG(`AQI`) FROM `AQIEMS` where `Category`= \"Good\" GROUP BY `Defining Parameter`')\n",
    "rows1 = cursor.fetchall()\n",
    "gooddays = rows1\n",
    "gooddays"
   ]
  },
  {
   "cell_type": "code",
   "execution_count": 8,
   "metadata": {},
   "outputs": [
    {
     "data": {
      "text/plain": [
       "(('NO2', Decimal('52.0000')),\n",
       " ('Ozone', Decimal('69.0375')),\n",
       " ('PM10', Decimal('58.1062')),\n",
       " ('PM2.5', Decimal('59.5637')),\n",
       " ('SO2', Decimal('71.6041')))"
      ]
     },
     "execution_count": 8,
     "metadata": {},
     "output_type": "execute_result"
    }
   ],
   "source": [
    "cursor.execute('SELECT `Defining Parameter`, AVG(`AQI`) FROM `AQIEMS` where `Category`= \"Moderate\" GROUP BY `Defining Parameter`')\n",
    "rows2 = cursor.fetchall()\n",
    "moddays= rows2\n",
    "moddays"
   ]
  },
  {
   "cell_type": "code",
   "execution_count": 9,
   "metadata": {},
   "outputs": [
    {
     "data": {
      "text/plain": [
       "(('CO', 'Good', Decimal('3.0000')),\n",
       " ('NO2', 'Good', Decimal('28.1699')),\n",
       " ('NO2', 'Moderate', Decimal('52.0000')),\n",
       " ('Ozone', 'Good', Decimal('36.2899')),\n",
       " ('Ozone', 'Moderate', Decimal('69.0375')),\n",
       " ('Ozone', 'Unhealthy', Decimal('114.4655')),\n",
       " ('PM10', 'Good', Decimal('31.1914')),\n",
       " ('PM10', 'Moderate', Decimal('58.1062')),\n",
       " ('PM10', 'Unhealthy', Decimal('101.0000')),\n",
       " ('PM2.5', 'Good', Decimal('34.2113')),\n",
       " ('PM2.5', 'Moderate', Decimal('59.5637')),\n",
       " ('PM2.5', 'Unhealthy', Decimal('128.2739')),\n",
       " ('SO2', 'Good', Decimal('8.6729')),\n",
       " ('SO2', 'Moderate', Decimal('71.6041')),\n",
       " ('SO2', 'Unhealthy', Decimal('113.4651')))"
      ]
     },
     "execution_count": 9,
     "metadata": {},
     "output_type": "execute_result"
    }
   ],
   "source": [
    "cursor.execute('SELECT `Defining Parameter`,`Category`, AVG(`AQI`) FROM `AQIEMS` GROUP BY `Defining Parameter`, `Category`' )\n",
    "rows3 = cursor.fetchall()\n",
    "days=rows3\n",
    "days"
   ]
  },
  {
   "cell_type": "code",
   "execution_count": 11,
   "metadata": {},
   "outputs": [
    {
     "name": "stdout",
     "output_type": "stream",
     "text": [
      "{'CO': [Decimal('3.0000'), 0, 0], 'NO2': [Decimal('28.1699'), Decimal('52.0000'), 0], 'Ozone': [Decimal('36.2899'), Decimal('69.0375'), Decimal('114.4655')], 'PM10': [Decimal('31.1914'), Decimal('58.1062'), Decimal('101.0000')], 'PM2.5': [Decimal('34.2113'), Decimal('59.5637'), Decimal('128.2739')], 'SO2': [Decimal('8.6729'), Decimal('71.6041'), Decimal('113.4651')]}\n"
     ]
    }
   ],
   "source": [
    "#various days list creation\n",
    "pddata= {}\n",
    "for contaminate, quality, average in days:\n",
    "    if contaminate not in pddata:\n",
    "        pddata[contaminate]= [0,0,0]\n",
    "    if quality == \"Good\":\n",
    "        pddata[contaminate][0]= average\n",
    "    if quality == \"Moderate\":\n",
    "        pddata[contaminate][1]= average\n",
    "    if quality == \"Unhealthy\":\n",
    "        pddata[contaminate][2]= average\n",
    "print(pddata)"
   ]
  },
  {
   "cell_type": "code",
   "execution_count": 18,
   "metadata": {},
   "outputs": [
    {
     "name": "stdout",
     "output_type": "stream",
     "text": [
      "['CO', 'NO2', 'Ozone', 'PM10', 'PM2.5', 'SO2']\n",
      "[[Decimal('3.0000'), Decimal('28.1699'), Decimal('36.2899'), Decimal('31.1914'), Decimal('34.2113'), Decimal('8.6729')], [0, Decimal('52.0000'), Decimal('69.0375'), Decimal('58.1062'), Decimal('59.5637'), Decimal('71.6041')], [0, 0, Decimal('114.4655'), Decimal('101.0000'), Decimal('128.2739'), Decimal('113.4651')]]\n"
     ]
    }
   ],
   "source": [
    "labels = []\n",
    "pddata2 = [[],[],[]]\n",
    "for contaminate, values in pddata.items():\n",
    "    labels.append(contaminate)\n",
    "    pddata2[0].append(values[0])\n",
    "    pddata2[1].append(values[1])\n",
    "    pddata2[2].append(values[2])\n",
    "print(labels)\n",
    "print(pddata2)"
   ]
  },
  {
   "cell_type": "code",
   "execution_count": 19,
   "metadata": {},
   "outputs": [
    {
     "data": {
      "image/png": "[encoded data removed]",
      "text/plain": [
       "<Figure size 432x288 with 1 Axes>"
      ]
     },
     "metadata": {
      "needs_background": "light"
     },
     "output_type": "display_data"
    }
   ],
   "source": [
    "label=[\"Good\",\"Moderate\",\"Unhealthy\"]\n",
    "fig = plt.figure()\n",
    "ax = fig.add_axes([0,0,1,1])\n",
    "for values in pddata2:\n",
    "    ax.bar(labels,values)\n",
    "plt.xlabel('Contaminates')\n",
    "plt.ylabel('Contaminate Level Averages')\n",
    "plt.title('Contaminate levels per Quality')\n",
    "plt.legend(label)\n",
    "plt.show()\n",
    "# label=[\"Good\",\"Moderate\",\"Unhealthy\"]\n",
    "# fig = plt.figure()\n",
    "# ax = fig.add_axes([0,0,1,1])\n",
    "# for values in pddata:\n",
    "#     ax.bar(values, label)\n",
    "# plt.xlabel('Contaminates')\n",
    "# plt.ylabel('Contaminate Level Averages')\n",
    "# plt.title('Contaminate levels per Quality')\n",
    "# plt.legend(label)\n",
    "# plt.show()"
   ]
  },
  {
   "cell_type": "code",
   "execution_count": 20,
   "metadata": {},
   "outputs": [
    {
     "name": "stdout",
     "output_type": "stream",
     "text": [
      "[[Decimal('0.02119611065500221146087833856'), Decimal('0.1990307725134489322105989032'), Decimal('0.2564015786863215845647096062'), Decimal('0.2203787886281453261869468698'), Decimal('0.2417155001504923856505157014'), Decimal('0.06127724936658955992635058084')], [Decimal('0E+4'), Decimal('0.1675735510930145998456389789'), Decimal('0.2224780583381537584008327116'), Decimal('0.1872511975869408642605897622'), Decimal('0.1919480908699806484774170471'), Decimal('0.2307491021119101290155215002')], [Decimal('0E+4'), Decimal('0E+4'), Decimal('0.2503595218332278006887508762'), Decimal('0.2209077119757132749130859386'), Decimal('0.2805613243089252183650860829'), Decimal('0.2481714418821337060330771023')]]\n"
     ]
    }
   ],
   "source": [
    "for values in pddata2:\n",
    "    total = sum(values)\n",
    "    for i in range(len(values)):\n",
    "        values[i]/= total\n",
    "print(pddata2)"
   ]
  },
  {
   "cell_type": "code",
   "execution_count": 21,
   "metadata": {},
   "outputs": [
    {
     "name": "stdout",
     "output_type": "stream",
     "text": [
      "{'CO': [Decimal('0.02119611065500221146087833856'), Decimal('0E+4'), Decimal('0E+4')], 'NO2': [Decimal('0.1990307725134489322105989032'), Decimal('0.1675735510930145998456389789'), Decimal('0E+4')], 'Ozone': [Decimal('0.2564015786863215845647096062'), Decimal('0.2224780583381537584008327116'), Decimal('0.2503595218332278006887508762')], 'PM10': [Decimal('0.2203787886281453261869468698'), Decimal('0.1872511975869408642605897622'), Decimal('0.2209077119757132749130859386')], 'PM2.5': [Decimal('0.2417155001504923856505157014'), Decimal('0.1919480908699806484774170471'), Decimal('0.2805613243089252183650860829')], 'SO2': [Decimal('0.06127724936658955992635058084'), Decimal('0.2307491021119101290155215002'), Decimal('0.2481714418821337060330771023')]}\n"
     ]
    }
   ],
   "source": [
    "pddata3={}\n",
    "for label in labels:\n",
    "    pddata3[label]=[]\n",
    "for values in pddata2:\n",
    "    for i in range(len(values)):\n",
    "        label = labels[i]\n",
    "        pddata3[label].append(values[i])\n",
    "print(pddata3)"
   ]
  },
  {
   "cell_type": "code",
   "execution_count": 26,
   "metadata": {},
   "outputs": [
    {
     "data": {
      "image/png": "[encoded data removed]",
      "text/plain": [
       "<Figure size 432x288 with 1 Axes>"
      ]
     },
     "metadata": {
      "needs_background": "light"
     },
     "output_type": "display_data"
    }
   ],
   "source": [
    "labels = [\"Good\",\"Moderate\",\"Unhealthy\"]\n",
    "contaminates=[]\n",
    "fig = plt.figure()\n",
    "ax = fig.add_axes([0,0,1,1])\n",
    "for contaminate, values in pddata3.items():\n",
    "    ax.bar(labels,values,label= contaminate)\n",
    "    contaminates.append(contaminate)\n",
    "plt.xlabel('Contaminates and Air Quality Levels')\n",
    "plt.ylabel('Air Contaminate Ratios')\n",
    "plt.title('Air Quality')\n",
    "plt.legend(contaminates)\n",
    "plt.show()\n",
    "#Sulfur Dioxide seems to be the biggest effect on Air Quality"
   ]
  },
  {
   "cell_type": "code",
   "execution_count": 29,
   "metadata": {},
   "outputs": [
    {
     "data": {
      "image/png": "[encoded data removed]",
      "text/plain": [
       "<Figure size 432x288 with 1 Axes>"
      ]
     },
     "metadata": {
      "needs_background": "light"
     },
     "output_type": "display_data"
    }
   ],
   "source": [
    "labels = [\"Good\",\"Moderate\",\"Unhealthy\"]\n",
    "fig = plt.figure()\n",
    "ax = fig.add_axes([0,0,1,1])\n",
    "for contaminate, values in pddata.items():\n",
    "    ax.bar(labels,values,label= contaminate)\n",
    "plt.xlabel('Contaminates and Air Quality Levels')\n",
    "plt.ylabel('Air Contaminate Ratios')\n",
    "plt.title('Air Quality')\n",
    "plt.show()\n",
    "#Non normalized chart on data"
   ]
  },
  {
   "cell_type": "code",
   "execution_count": null,
   "metadata": {},
   "outputs": [],
   "source": []
  }
 ],
 "metadata": {
  "kernelspec": {
   "display_name": "Python 3 (ipykernel)",
   "language": "python",
   "name": "python3"
  },
  "language_info": {
   "codemirror_mode": {
    "name": "ipython",
    "version": 3
   },
   "file_extension": ".py",
   "mimetype": "text/x-python",
   "name": "python",
   "nbconvert_exporter": "python",
   "pygments_lexer": "ipython3",
   "version": "3.9.7"
  }
 },
 "nbformat": 4,
 "nbformat_minor": 4
}
