{
 "cells": [
  {
   "cell_type": "code",
   "execution_count": 147,
   "metadata": {},
   "outputs": [],
   "source": [
    "import numpy as np\n",
    "import pandas as pd\n",
    "import matplotlib.pyplot as plt\n",
    "import seaborn as sns\n",
    "%matplotlib inline\n"
   ]
  },
  {
   "cell_type": "code",
   "execution_count": 148,
   "metadata": {},
   "outputs": [],
   "source": [
    "import pandas as pd\n",
    "file_handler = open(\"AQIEMS1.csv\", \"r\")\n",
    "df = pd.read_csv(file_handler, sep = \",\")\n",
    "df = df.rename(columns = {\"Defining Parameter\":\"Defining_Parameter\"})\n",
    "\n",
    "\n",
    "#We used this for further cleaning in order make data analysis easier"
   ]
  },
  {
   "cell_type": "code",
   "execution_count": 149,
   "metadata": {},
   "outputs": [],
   "source": [
    "df = df.rename(columns = {\"ZIP Code\":\"ZIP_Code\"})\n",
    "\n",
    "\n",
    "#We used this for further cleaning in order make data analysis easier"
   ]
  },
  {
   "cell_type": "code",
   "execution_count": 150,
   "metadata": {},
   "outputs": [
    {
     "data": {
      "text/plain": [
       "BREATHING PROBLEM                                     49531\n",
       "WEAKNESS                                              47001\n",
       "NAUSEA                                                17998\n",
       "MALAISE                                               10208\n",
       "DYSPNEA                                                4390\n",
       "PALPITATIONS                                           2868\n",
       "NAUSEA WITH VOMITING, UNSPECIFIED                      2058\n",
       "COUGH                                                  1248\n",
       "FATIGUE                                                 973\n",
       "WHEEZING                                                538\n",
       "EDEMA, UNSPECIFIED                                      408\n",
       "APNEA                                                   303\n",
       "PAIN, CHEST (CARDIAC)                                   285\n",
       "CARDIAC ARREST                                          211\n",
       "CHEST PAIN                                              179\n",
       "BRADYCARDIA, UNSPECIFIED                                175\n",
       "SHORTNESS OF BREATH                                     172\n",
       "PAIN, HEADACHE                                          121\n",
       "NASAL CONGESTION                                        119\n",
       "CARDIAC ARREST DUE TO UNDERLYING CARDIAC CONDITION       98\n",
       "ACUTE SORE THROAT                                        96\n",
       "VOMITING                                                 82\n",
       "PAIN, CHEST ON BREATHING                                 34\n",
       "CARDIORESPIRATORY ARREST                                 15\n",
       "ELEVATED BLOOD-PRESSURE                                  14\n",
       "PAIN, JAW                                                 6\n",
       "EDEMA, LOCAL (PITTING)                                    5\n",
       "CARDIAC ARREST, CAUSE UNSPECIFIED                         4\n",
       "TACHYCARDIA, UNSPECIFIED                                  4\n",
       "PAIN, THROAT                                              3\n",
       "PAIN, ANTERIOR CHEST-WALL                                 2\n",
       "CARDIAC ARREST DUE TO OTHER UNDERLYING CONDITION          2\n",
       "MOUTH BREATHING                                           2\n",
       "VOMITING, PROJECTILE                                      1\n",
       "Name: SYMPTOM_PRIMARY, dtype: int64"
      ]
     },
     "execution_count": 150,
     "metadata": {},
     "output_type": "execute_result"
    }
   ],
   "source": [
    "df['SYMPTOM_PRIMARY'].value_counts()"
   ]
  },
  {
   "cell_type": "code",
   "execution_count": 151,
   "metadata": {},
   "outputs": [],
   "source": [
    "df['SYMPTOM_PRIMARY'] = df['SYMPTOM_PRIMARY'].replace(['BREATHING PROBLEM','WHEEZING', 'APNEA', 'COUGH', 'DYSPNEA', 'NASAL CONGESTION', 'MOUTH BREATHING', 'DYSPNEA', 'SHORTNESS OF BREATH'],'RESPIRATORY')"
   ]
  },
  {
   "cell_type": "code",
   "execution_count": 152,
   "metadata": {},
   "outputs": [],
   "source": [
    "df['SYMPTOM_PRIMARY'] = df['SYMPTOM_PRIMARY'].replace(['NAUSEA','VOMITING', 'NAUSEA WITH VOMITING, UNSPECIFIED','VOMITING, PROJECTILE'],'GASTROINTESTINAL')"
   ]
  },
  {
   "cell_type": "code",
   "execution_count": 153,
   "metadata": {},
   "outputs": [],
   "source": [
    "df['SYMPTOM_PRIMARY'] = df['SYMPTOM_PRIMARY'].replace(['WEAKNESS','MALAISE', 'CARDIORESPIRATORY ARREST', 'FATIGUE'],'GENERAL/MULTIPLE SYSTEMS')"
   ]
  },
  {
   "cell_type": "code",
   "execution_count": 154,
   "metadata": {},
   "outputs": [],
   "source": [
    "df['SYMPTOM_PRIMARY'] = df['SYMPTOM_PRIMARY'].replace(['ACUTE SORE THROAT','CHEST PAIN','PAIN','PAIN, CHEST ON BREATHING', 'PAIN, JAW', 'PAIN IN ARM, UNSPECIFIED', 'PAIN, ANTERIOR CHEST-WALL', 'PAIN, CHEST (CARDIAC)','EDEMA, LOCAL (PITTING)','CARDIAC ARREST, CAUSE UNSPECIFIED' 'PAIN, CHEST ON BREATHING', 'PAIN, HEADACHE', 'PAIN, THROAT'],'PAIN')"
   ]
  },
  {
   "cell_type": "code",
   "execution_count": 155,
   "metadata": {},
   "outputs": [],
   "source": [
    "df['SYMPTOM_PRIMARY'] = df['SYMPTOM_PRIMARY'].replace(['PALPITATIONS','ELEVATED BLOOD PRESSURE', 'EDEMA', 'CARDIAC ARREST', 'BRADYCARDIA', 'TACHYCARDIA', 'CARDIAC ARREST, CAUSE UNSPECIFIED','EDEMA, UNSPECIFIED','BRADYCARDIA, UNSPECIFIED','ELEVATED BLOOD-PRESSURE','TACHYCARDIA, UNSPECIFIED','CARDIAC ARREST DUE TO UNDERLYING CARDIAC CONDITION','CARDIAC ARREST DUE TO OTHER UNDERLYING CONDITION','CARDIAC ARREST', 'CARDIAC, CAUSE UNSPECIFIED', 'CARDIAC, LOCAL'],'CARDIAC')"
   ]
  },
  {
   "cell_type": "code",
   "execution_count": 156,
   "metadata": {},
   "outputs": [
    {
     "data": {
      "text/plain": [
       "count                       139154\n",
       "unique                           5\n",
       "top       GENERAL/MULTIPLE SYSTEMS\n",
       "freq                         58197\n",
       "Name: SYMPTOM_PRIMARY, dtype: object"
      ]
     },
     "execution_count": 156,
     "metadata": {},
     "output_type": "execute_result"
    }
   ],
   "source": [
    "df['SYMPTOM_PRIMARY'].describe()\n",
    "\n"
   ]
  },
  {
   "cell_type": "code",
   "execution_count": 157,
   "metadata": {},
   "outputs": [
    {
     "data": {
      "text/plain": [
       "count    139154.000000\n",
       "mean         41.894922\n",
       "std          18.264977\n",
       "min           0.000000\n",
       "25%          31.000000\n",
       "50%          40.000000\n",
       "75%          52.000000\n",
       "max         217.000000\n",
       "Name: AQI, dtype: float64"
      ]
     },
     "execution_count": 157,
     "metadata": {},
     "output_type": "execute_result"
    }
   ],
   "source": [
    "df['AQI'].describe()"
   ]
  },
  {
   "cell_type": "code",
   "execution_count": 158,
   "metadata": {},
   "outputs": [
    {
     "data": {
      "text/plain": [
       "count     139154\n",
       "unique         3\n",
       "top         Good\n",
       "freq      101748\n",
       "Name: Category, dtype: object"
      ]
     },
     "execution_count": 158,
     "metadata": {},
     "output_type": "execute_result"
    }
   ],
   "source": [
    "df['Category'].describe()"
   ]
  },
  {
   "cell_type": "code",
   "execution_count": 159,
   "metadata": {},
   "outputs": [
    {
     "data": {
      "text/plain": [
       "count     139154\n",
       "unique         6\n",
       "top        PM2.5\n",
       "freq       70497\n",
       "Name: Defining_Parameter, dtype: object"
      ]
     },
     "execution_count": 159,
     "metadata": {},
     "output_type": "execute_result"
    }
   ],
   "source": [
    "df['Defining_Parameter'].describe()"
   ]
  },
  {
   "cell_type": "code",
   "execution_count": 160,
   "metadata": {},
   "outputs": [],
   "source": [
    "#Encoding the required columns, i.e, SYMPTOM_PRIMARY,Category, Defining_Parameter\n",
    "\n",
    "from sklearn.preprocessing import LabelEncoder\n",
    "le_SYMPTOM_PRIMARY = LabelEncoder()\n",
    "le_Category = LabelEncoder()\n",
    "le_Defining_Parameter = LabelEncoder()\n",
    "df['SYMPTOM_PRIMARY_encoded'] = le_SYMPTOM_PRIMARY.fit_transform(df.SYMPTOM_PRIMARY)\n",
    "df['Category_encoded'] = le_Category.fit_transform(df.Category)\n",
    "df['Defining_Parameter_encoded'] = le_Defining_Parameter.fit_transform(df.Defining_Parameter)"
   ]
  },
  {
   "cell_type": "code",
   "execution_count": 161,
   "metadata": {},
   "outputs": [
    {
     "data": {
      "text/plain": [
       "0         4\n",
       "1         4\n",
       "2         1\n",
       "3         1\n",
       "4         2\n",
       "         ..\n",
       "139149    2\n",
       "139150    2\n",
       "139151    2\n",
       "139152    4\n",
       "139153    2\n",
       "Name: SYMPTOM_PRIMARY_encoded, Length: 139154, dtype: int32"
      ]
     },
     "execution_count": 161,
     "metadata": {},
     "output_type": "execute_result"
    }
   ],
   "source": [
    "df[\"SYMPTOM_PRIMARY_encoded\"].replace([''])\n",
    "#checking the datatypes"
   ]
  },
  {
   "cell_type": "code",
   "execution_count": 73,
   "metadata": {},
   "outputs": [
    {
     "data": {
      "text/html": [
       "<div>\n",
       "<style scoped>\n",
       "    .dataframe tbody tr th:only-of-type {\n",
       "        vertical-align: middle;\n",
       "    }\n",
       "\n",
       "    .dataframe tbody tr th {\n",
       "        vertical-align: top;\n",
       "    }\n",
       "\n",
       "    .dataframe thead th {\n",
       "        text-align: right;\n",
       "    }\n",
       "</style>\n",
       "<table border=\"1\" class=\"dataframe\">\n",
       "  <thead>\n",
       "    <tr style=\"text-align: right;\">\n",
       "      <th></th>\n",
       "      <th>ZIP_Code</th>\n",
       "      <th>AQI</th>\n",
       "      <th>SYMPTOM_PRIMARY_encoded</th>\n",
       "      <th>Category_encoded</th>\n",
       "      <th>Defining_Parameter_encoded</th>\n",
       "    </tr>\n",
       "  </thead>\n",
       "  <tbody>\n",
       "    <tr>\n",
       "      <th>count</th>\n",
       "      <td>139154.000000</td>\n",
       "      <td>139154.000000</td>\n",
       "      <td>139154.000000</td>\n",
       "      <td>139154.000000</td>\n",
       "      <td>139154.000000</td>\n",
       "    </tr>\n",
       "    <tr>\n",
       "      <th>mean</th>\n",
       "      <td>46840.916186</td>\n",
       "      <td>41.894922</td>\n",
       "      <td>2.615361</td>\n",
       "      <td>0.277987</td>\n",
       "      <td>3.152867</td>\n",
       "    </tr>\n",
       "    <tr>\n",
       "      <th>std</th>\n",
       "      <td>663.866870</td>\n",
       "      <td>18.264977</td>\n",
       "      <td>1.224144</td>\n",
       "      <td>0.468044</td>\n",
       "      <td>1.063925</td>\n",
       "    </tr>\n",
       "    <tr>\n",
       "      <th>min</th>\n",
       "      <td>46011.000000</td>\n",
       "      <td>0.000000</td>\n",
       "      <td>0.000000</td>\n",
       "      <td>0.000000</td>\n",
       "      <td>0.000000</td>\n",
       "    </tr>\n",
       "    <tr>\n",
       "      <th>25%</th>\n",
       "      <td>46237.000000</td>\n",
       "      <td>31.000000</td>\n",
       "      <td>2.000000</td>\n",
       "      <td>0.000000</td>\n",
       "      <td>2.000000</td>\n",
       "    </tr>\n",
       "    <tr>\n",
       "      <th>50%</th>\n",
       "      <td>46725.000000</td>\n",
       "      <td>40.000000</td>\n",
       "      <td>2.000000</td>\n",
       "      <td>0.000000</td>\n",
       "      <td>4.000000</td>\n",
       "    </tr>\n",
       "    <tr>\n",
       "      <th>75%</th>\n",
       "      <td>47586.000000</td>\n",
       "      <td>52.000000</td>\n",
       "      <td>4.000000</td>\n",
       "      <td>1.000000</td>\n",
       "      <td>4.000000</td>\n",
       "    </tr>\n",
       "    <tr>\n",
       "      <th>max</th>\n",
       "      <td>47933.000000</td>\n",
       "      <td>217.000000</td>\n",
       "      <td>4.000000</td>\n",
       "      <td>2.000000</td>\n",
       "      <td>5.000000</td>\n",
       "    </tr>\n",
       "  </tbody>\n",
       "</table>\n",
       "</div>"
      ],
      "text/plain": [
       "            ZIP_Code            AQI  SYMPTOM_PRIMARY_encoded  \\\n",
       "count  139154.000000  139154.000000            139154.000000   \n",
       "mean    46840.916186      41.894922                 2.615361   \n",
       "std       663.866870      18.264977                 1.224144   \n",
       "min     46011.000000       0.000000                 0.000000   \n",
       "25%     46237.000000      31.000000                 2.000000   \n",
       "50%     46725.000000      40.000000                 2.000000   \n",
       "75%     47586.000000      52.000000                 4.000000   \n",
       "max     47933.000000     217.000000                 4.000000   \n",
       "\n",
       "       Category_encoded  Defining_Parameter_encoded  \n",
       "count     139154.000000               139154.000000  \n",
       "mean           0.277987                    3.152867  \n",
       "std            0.468044                    1.063925  \n",
       "min            0.000000                    0.000000  \n",
       "25%            0.000000                    2.000000  \n",
       "50%            0.000000                    4.000000  \n",
       "75%            1.000000                    4.000000  \n",
       "max            2.000000                    5.000000  "
      ]
     },
     "execution_count": 73,
     "metadata": {},
     "output_type": "execute_result"
    }
   ],
   "source": [
    "df.describe()\n",
    "#Descriptive table"
   ]
  },
  {
   "cell_type": "code",
   "execution_count": 162,
   "metadata": {},
   "outputs": [
    {
     "data": {
      "text/plain": [
       "KruskalResult(statistic=218251.5309014292, pvalue=0.0)"
      ]
     },
     "execution_count": 162,
     "metadata": {},
     "output_type": "execute_result"
    }
   ],
   "source": [
    "x = df['AQI']\n",
    "y = df['Category_encoded']\n",
    "from scipy import stats\n",
    "stats.kruskal(x, y)"
   ]
  },
  {
   "cell_type": "code",
   "execution_count": 163,
   "metadata": {},
   "outputs": [
    {
     "data": {
      "text/html": [
       "<div>\n",
       "<style scoped>\n",
       "    .dataframe tbody tr th:only-of-type {\n",
       "        vertical-align: middle;\n",
       "    }\n",
       "\n",
       "    .dataframe tbody tr th {\n",
       "        vertical-align: top;\n",
       "    }\n",
       "\n",
       "    .dataframe thead th {\n",
       "        text-align: right;\n",
       "    }\n",
       "</style>\n",
       "<table border=\"1\" class=\"dataframe\">\n",
       "  <thead>\n",
       "    <tr style=\"text-align: right;\">\n",
       "      <th></th>\n",
       "      <th>SYMPTOM_PRIMARY</th>\n",
       "      <th>Facility</th>\n",
       "      <th>City</th>\n",
       "      <th>ZIP_Code</th>\n",
       "      <th>County</th>\n",
       "      <th>Date</th>\n",
       "      <th>AQI</th>\n",
       "      <th>Category</th>\n",
       "      <th>Defining_Parameter</th>\n",
       "      <th>SYMPTOM_PRIMARY_encoded</th>\n",
       "      <th>Category_encoded</th>\n",
       "      <th>Defining_Parameter_encoded</th>\n",
       "    </tr>\n",
       "  </thead>\n",
       "  <tbody>\n",
       "    <tr>\n",
       "      <th>0</th>\n",
       "      <td>RESPIRATORY</td>\n",
       "      <td>COLUMBUS REGIONAL HOSPITAL</td>\n",
       "      <td>COLUMBUS</td>\n",
       "      <td>47201</td>\n",
       "      <td>Bartholomew</td>\n",
       "      <td>1/1/2015</td>\n",
       "      <td>32</td>\n",
       "      <td>Good</td>\n",
       "      <td>PM2.5</td>\n",
       "      <td>4</td>\n",
       "      <td>0</td>\n",
       "      <td>4</td>\n",
       "    </tr>\n",
       "    <tr>\n",
       "      <th>1</th>\n",
       "      <td>RESPIRATORY</td>\n",
       "      <td>ST VINCENT HOSPITAL</td>\n",
       "      <td>INDIANAPOLIS</td>\n",
       "      <td>46260</td>\n",
       "      <td>Marion</td>\n",
       "      <td>1/1/2015</td>\n",
       "      <td>43</td>\n",
       "      <td>Good</td>\n",
       "      <td>PM2.5</td>\n",
       "      <td>4</td>\n",
       "      <td>0</td>\n",
       "      <td>4</td>\n",
       "    </tr>\n",
       "    <tr>\n",
       "      <th>2</th>\n",
       "      <td>GASTROINTESTINAL</td>\n",
       "      <td>COLUMBUS REGIONAL HOSPITAL</td>\n",
       "      <td>COLUMBUS</td>\n",
       "      <td>47201</td>\n",
       "      <td>Bartholomew</td>\n",
       "      <td>1/1/2015</td>\n",
       "      <td>32</td>\n",
       "      <td>Good</td>\n",
       "      <td>PM2.5</td>\n",
       "      <td>1</td>\n",
       "      <td>0</td>\n",
       "      <td>4</td>\n",
       "    </tr>\n",
       "    <tr>\n",
       "      <th>3</th>\n",
       "      <td>GASTROINTESTINAL</td>\n",
       "      <td>INDIANA UNIVERSITY HEALTH BLOOMINGTON HOSPITAL</td>\n",
       "      <td>BLOOMINGTON</td>\n",
       "      <td>47403</td>\n",
       "      <td>Monroe</td>\n",
       "      <td>1/1/2015</td>\n",
       "      <td>55</td>\n",
       "      <td>Moderate</td>\n",
       "      <td>PM2.5</td>\n",
       "      <td>1</td>\n",
       "      <td>1</td>\n",
       "      <td>4</td>\n",
       "    </tr>\n",
       "    <tr>\n",
       "      <th>4</th>\n",
       "      <td>GENERAL/MULTIPLE SYSTEMS</td>\n",
       "      <td>COLUMBUS REGIONAL HOSPITAL</td>\n",
       "      <td>COLUMBUS</td>\n",
       "      <td>47201</td>\n",
       "      <td>Bartholomew</td>\n",
       "      <td>1/1/2015</td>\n",
       "      <td>32</td>\n",
       "      <td>Good</td>\n",
       "      <td>PM2.5</td>\n",
       "      <td>2</td>\n",
       "      <td>0</td>\n",
       "      <td>4</td>\n",
       "    </tr>\n",
       "    <tr>\n",
       "      <th>...</th>\n",
       "      <td>...</td>\n",
       "      <td>...</td>\n",
       "      <td>...</td>\n",
       "      <td>...</td>\n",
       "      <td>...</td>\n",
       "      <td>...</td>\n",
       "      <td>...</td>\n",
       "      <td>...</td>\n",
       "      <td>...</td>\n",
       "      <td>...</td>\n",
       "      <td>...</td>\n",
       "      <td>...</td>\n",
       "    </tr>\n",
       "    <tr>\n",
       "      <th>139149</th>\n",
       "      <td>GENERAL/MULTIPLE SYSTEMS</td>\n",
       "      <td>RIVERVIEW HEALTH</td>\n",
       "      <td>NOBLESVILLE</td>\n",
       "      <td>46060</td>\n",
       "      <td>Hamilton</td>\n",
       "      <td>12/31/2018</td>\n",
       "      <td>20</td>\n",
       "      <td>Good</td>\n",
       "      <td>PM2.5</td>\n",
       "      <td>2</td>\n",
       "      <td>0</td>\n",
       "      <td>4</td>\n",
       "    </tr>\n",
       "    <tr>\n",
       "      <th>139150</th>\n",
       "      <td>GENERAL/MULTIPLE SYSTEMS</td>\n",
       "      <td>CLARK MEMORIAL HOSPITAL</td>\n",
       "      <td>JEFFERSONVILLE</td>\n",
       "      <td>47130</td>\n",
       "      <td>Clark</td>\n",
       "      <td>12/31/2018</td>\n",
       "      <td>22</td>\n",
       "      <td>Good</td>\n",
       "      <td>Ozone</td>\n",
       "      <td>2</td>\n",
       "      <td>0</td>\n",
       "      <td>2</td>\n",
       "    </tr>\n",
       "    <tr>\n",
       "      <th>139151</th>\n",
       "      <td>GENERAL/MULTIPLE SYSTEMS</td>\n",
       "      <td>PERRY COUNTY MEMORIAL HOSPITAL</td>\n",
       "      <td>TELL CITY</td>\n",
       "      <td>47586</td>\n",
       "      <td>Perry</td>\n",
       "      <td>12/31/2018</td>\n",
       "      <td>22</td>\n",
       "      <td>Good</td>\n",
       "      <td>Ozone</td>\n",
       "      <td>2</td>\n",
       "      <td>0</td>\n",
       "      <td>2</td>\n",
       "    </tr>\n",
       "    <tr>\n",
       "      <th>139152</th>\n",
       "      <td>RESPIRATORY</td>\n",
       "      <td>COMMUNITY HOSPITAL SOUTH, INC.</td>\n",
       "      <td>INDIANAPOLIS</td>\n",
       "      <td>46227</td>\n",
       "      <td>Marion</td>\n",
       "      <td>12/31/2018</td>\n",
       "      <td>38</td>\n",
       "      <td>Good</td>\n",
       "      <td>PM2.5</td>\n",
       "      <td>4</td>\n",
       "      <td>0</td>\n",
       "      <td>4</td>\n",
       "    </tr>\n",
       "    <tr>\n",
       "      <th>139153</th>\n",
       "      <td>GENERAL/MULTIPLE SYSTEMS</td>\n",
       "      <td>METHODIST HOSPITALS INC</td>\n",
       "      <td>GARY</td>\n",
       "      <td>46402</td>\n",
       "      <td>Lake</td>\n",
       "      <td>12/31/2018</td>\n",
       "      <td>43</td>\n",
       "      <td>Good</td>\n",
       "      <td>PM2.5</td>\n",
       "      <td>2</td>\n",
       "      <td>0</td>\n",
       "      <td>4</td>\n",
       "    </tr>\n",
       "  </tbody>\n",
       "</table>\n",
       "<p>139154 rows × 12 columns</p>\n",
       "</div>"
      ],
      "text/plain": [
       "                 SYMPTOM_PRIMARY  \\\n",
       "0                    RESPIRATORY   \n",
       "1                    RESPIRATORY   \n",
       "2               GASTROINTESTINAL   \n",
       "3               GASTROINTESTINAL   \n",
       "4       GENERAL/MULTIPLE SYSTEMS   \n",
       "...                          ...   \n",
       "139149  GENERAL/MULTIPLE SYSTEMS   \n",
       "139150  GENERAL/MULTIPLE SYSTEMS   \n",
       "139151  GENERAL/MULTIPLE SYSTEMS   \n",
       "139152               RESPIRATORY   \n",
       "139153  GENERAL/MULTIPLE SYSTEMS   \n",
       "\n",
       "                                              Facility            City  \\\n",
       "0                           COLUMBUS REGIONAL HOSPITAL        COLUMBUS   \n",
       "1                                  ST VINCENT HOSPITAL    INDIANAPOLIS   \n",
       "2                           COLUMBUS REGIONAL HOSPITAL        COLUMBUS   \n",
       "3       INDIANA UNIVERSITY HEALTH BLOOMINGTON HOSPITAL     BLOOMINGTON   \n",
       "4                           COLUMBUS REGIONAL HOSPITAL        COLUMBUS   \n",
       "...                                                ...             ...   \n",
       "139149                                RIVERVIEW HEALTH     NOBLESVILLE   \n",
       "139150                         CLARK MEMORIAL HOSPITAL  JEFFERSONVILLE   \n",
       "139151                  PERRY COUNTY MEMORIAL HOSPITAL       TELL CITY   \n",
       "139152                  COMMUNITY HOSPITAL SOUTH, INC.    INDIANAPOLIS   \n",
       "139153                         METHODIST HOSPITALS INC            GARY   \n",
       "\n",
       "        ZIP_Code       County        Date  AQI  Category Defining_Parameter  \\\n",
       "0          47201  Bartholomew    1/1/2015   32      Good              PM2.5   \n",
       "1          46260       Marion    1/1/2015   43      Good              PM2.5   \n",
       "2          47201  Bartholomew    1/1/2015   32      Good              PM2.5   \n",
       "3          47403       Monroe    1/1/2015   55  Moderate              PM2.5   \n",
       "4          47201  Bartholomew    1/1/2015   32      Good              PM2.5   \n",
       "...          ...          ...         ...  ...       ...                ...   \n",
       "139149     46060     Hamilton  12/31/2018   20      Good              PM2.5   \n",
       "139150     47130        Clark  12/31/2018   22      Good              Ozone   \n",
       "139151     47586        Perry  12/31/2018   22      Good              Ozone   \n",
       "139152     46227       Marion  12/31/2018   38      Good              PM2.5   \n",
       "139153     46402         Lake  12/31/2018   43      Good              PM2.5   \n",
       "\n",
       "        SYMPTOM_PRIMARY_encoded  Category_encoded  Defining_Parameter_encoded  \n",
       "0                             4                 0                           4  \n",
       "1                             4                 0                           4  \n",
       "2                             1                 0                           4  \n",
       "3                             1                 1                           4  \n",
       "4                             2                 0                           4  \n",
       "...                         ...               ...                         ...  \n",
       "139149                        2                 0                           4  \n",
       "139150                        2                 0                           2  \n",
       "139151                        2                 0                           2  \n",
       "139152                        4                 0                           4  \n",
       "139153                        2                 0                           4  \n",
       "\n",
       "[139154 rows x 12 columns]"
      ]
     },
     "execution_count": 163,
     "metadata": {},
     "output_type": "execute_result"
    }
   ],
   "source": [
    "df"
   ]
  },
  {
   "cell_type": "code",
   "execution_count": 164,
   "metadata": {},
   "outputs": [
    {
     "data": {
      "text/plain": [
       "4    70497\n",
       "2    60657\n",
       "5     6536\n",
       "1      727\n",
       "3      675\n",
       "0       62\n",
       "Name: Defining_Parameter_encoded, dtype: int64"
      ]
     },
     "execution_count": 164,
     "metadata": {},
     "output_type": "execute_result"
    }
   ],
   "source": [
    "df['Defining_Parameter_encoded'].value_counts()"
   ]
  },
  {
   "cell_type": "code",
   "execution_count": 165,
   "metadata": {},
   "outputs": [
    {
     "data": {
      "text/plain": [
       "PM2.5    70497\n",
       "Ozone    60657\n",
       "SO2       6536\n",
       "NO2        727\n",
       "PM10       675\n",
       "CO          62\n",
       "Name: Defining_Parameter, dtype: int64"
      ]
     },
     "execution_count": 165,
     "metadata": {},
     "output_type": "execute_result"
    }
   ],
   "source": [
    "df['Defining_Parameter'].value_counts()"
   ]
  },
  {
   "cell_type": "code",
   "execution_count": 166,
   "metadata": {},
   "outputs": [
    {
     "data": {
      "text/plain": [
       "47747    11863\n",
       "47905     8920\n",
       "47303     6762\n",
       "47804     6730\n",
       "46804     6388\n",
       "         ...  \n",
       "46321       75\n",
       "46112       51\n",
       "47933       18\n",
       "46290        8\n",
       "47630        4\n",
       "Name: ZIP_Code, Length: 66, dtype: int64"
      ]
     },
     "execution_count": 166,
     "metadata": {},
     "output_type": "execute_result"
    }
   ],
   "source": [
    "df['ZIP_Code'].value_counts()"
   ]
  },
  {
   "cell_type": "code",
   "execution_count": 167,
   "metadata": {},
   "outputs": [
    {
     "data": {
      "text/html": [
       "<div>\n",
       "<style scoped>\n",
       "    .dataframe tbody tr th:only-of-type {\n",
       "        vertical-align: middle;\n",
       "    }\n",
       "\n",
       "    .dataframe tbody tr th {\n",
       "        vertical-align: top;\n",
       "    }\n",
       "\n",
       "    .dataframe thead th {\n",
       "        text-align: right;\n",
       "    }\n",
       "</style>\n",
       "<table border=\"1\" class=\"dataframe\">\n",
       "  <thead>\n",
       "    <tr style=\"text-align: right;\">\n",
       "      <th></th>\n",
       "      <th>ZIP_Code</th>\n",
       "      <th>AQI</th>\n",
       "      <th>SYMPTOM_PRIMARY_encoded</th>\n",
       "      <th>Category_encoded</th>\n",
       "      <th>Defining_Parameter_encoded</th>\n",
       "    </tr>\n",
       "  </thead>\n",
       "  <tbody>\n",
       "    <tr>\n",
       "      <th>ZIP_Code</th>\n",
       "      <td>1.000000</td>\n",
       "      <td>-0.128954</td>\n",
       "      <td>0.002541</td>\n",
       "      <td>-0.063185</td>\n",
       "      <td>0.119703</td>\n",
       "    </tr>\n",
       "    <tr>\n",
       "      <th>AQI</th>\n",
       "      <td>-0.128954</td>\n",
       "      <td>1.000000</td>\n",
       "      <td>-0.002433</td>\n",
       "      <td>0.779145</td>\n",
       "      <td>-0.072993</td>\n",
       "    </tr>\n",
       "    <tr>\n",
       "      <th>SYMPTOM_PRIMARY_encoded</th>\n",
       "      <td>0.002541</td>\n",
       "      <td>-0.002433</td>\n",
       "      <td>1.000000</td>\n",
       "      <td>0.002308</td>\n",
       "      <td>0.014479</td>\n",
       "    </tr>\n",
       "    <tr>\n",
       "      <th>Category_encoded</th>\n",
       "      <td>-0.063185</td>\n",
       "      <td>0.779145</td>\n",
       "      <td>0.002308</td>\n",
       "      <td>1.000000</td>\n",
       "      <td>0.159044</td>\n",
       "    </tr>\n",
       "    <tr>\n",
       "      <th>Defining_Parameter_encoded</th>\n",
       "      <td>0.119703</td>\n",
       "      <td>-0.072993</td>\n",
       "      <td>0.014479</td>\n",
       "      <td>0.159044</td>\n",
       "      <td>1.000000</td>\n",
       "    </tr>\n",
       "  </tbody>\n",
       "</table>\n",
       "</div>"
      ],
      "text/plain": [
       "                            ZIP_Code       AQI  SYMPTOM_PRIMARY_encoded  \\\n",
       "ZIP_Code                    1.000000 -0.128954                 0.002541   \n",
       "AQI                        -0.128954  1.000000                -0.002433   \n",
       "SYMPTOM_PRIMARY_encoded     0.002541 -0.002433                 1.000000   \n",
       "Category_encoded           -0.063185  0.779145                 0.002308   \n",
       "Defining_Parameter_encoded  0.119703 -0.072993                 0.014479   \n",
       "\n",
       "                            Category_encoded  Defining_Parameter_encoded  \n",
       "ZIP_Code                           -0.063185                    0.119703  \n",
       "AQI                                 0.779145                   -0.072993  \n",
       "SYMPTOM_PRIMARY_encoded             0.002308                    0.014479  \n",
       "Category_encoded                    1.000000                    0.159044  \n",
       "Defining_Parameter_encoded          0.159044                    1.000000  "
      ]
     },
     "execution_count": 167,
     "metadata": {},
     "output_type": "execute_result"
    }
   ],
   "source": [
    "df.corr()\n"
   ]
  },
  {
   "cell_type": "code",
   "execution_count": 168,
   "metadata": {},
   "outputs": [],
   "source": [
    "# from above, we can see that as category increases, the AQI levels increase. So if it's unhealthy, the AQI is high."
   ]
  },
  {
   "cell_type": "code",
   "execution_count": 169,
   "metadata": {},
   "outputs": [
    {
     "name": "stdout",
     "output_type": "stream",
     "text": [
      "\n",
      "Pearson: \n",
      "                             ZIP_Code       AQI  SYMPTOM_PRIMARY_encoded  \\\n",
      "ZIP_Code                    1.000000 -0.128954                 0.002541   \n",
      "AQI                        -0.128954  1.000000                -0.002433   \n",
      "SYMPTOM_PRIMARY_encoded     0.002541 -0.002433                 1.000000   \n",
      "Category_encoded           -0.063185  0.779145                 0.002308   \n",
      "Defining_Parameter_encoded  0.119703 -0.072993                 0.014479   \n",
      "\n",
      "                            Category_encoded  Defining_Parameter_encoded  \n",
      "ZIP_Code                           -0.063185                    0.119703  \n",
      "AQI                                 0.779145                   -0.072993  \n",
      "SYMPTOM_PRIMARY_encoded             0.002308                    0.014479  \n",
      "Category_encoded                    1.000000                    0.159044  \n",
      "Defining_Parameter_encoded          0.159044                    1.000000  \n",
      "\n",
      "Pearson (-0.00243343545618235, 0.364012349650007)\n"
     ]
    }
   ],
   "source": [
    "#Applying pearson's correlation\n",
    "import pandas as pd\n",
    "import scipy.stats as stats\n",
    "import matplotlib.pyplot as plt\n",
    "print(\"\\nPearson: \\n\", df.corr(method='pearson'))\n",
    "print(\"\\nPearson\",stats.pearsonr(df['SYMPTOM_PRIMARY_encoded'], df['AQI']))"
   ]
  },
  {
   "cell_type": "code",
   "execution_count": 170,
   "metadata": {},
   "outputs": [
    {
     "name": "stdout",
     "output_type": "stream",
     "text": [
      "\n",
      "Spearman: \n",
      "                             ZIP_Code       AQI  SYMPTOM_PRIMARY_encoded  \\\n",
      "ZIP_Code                    1.000000 -0.108241                -0.004249   \n",
      "AQI                        -0.108241  1.000000                 0.003859   \n",
      "SYMPTOM_PRIMARY_encoded    -0.004249  0.003859                 1.000000   \n",
      "Category_encoded           -0.048589  0.769303                 0.003240   \n",
      "Defining_Parameter_encoded  0.141625 -0.006139                 0.012497   \n",
      "\n",
      "                            Category_encoded  Defining_Parameter_encoded  \n",
      "ZIP_Code                           -0.048589                    0.141625  \n",
      "AQI                                 0.769303                   -0.006139  \n",
      "SYMPTOM_PRIMARY_encoded             0.003240                    0.012497  \n",
      "Category_encoded                    1.000000                    0.166827  \n",
      "Defining_Parameter_encoded          0.166827                    1.000000  \n",
      "\n",
      "Spearman SpearmanrResult(correlation=0.0038587605652910654, pvalue=0.15002606007082656)\n"
     ]
    }
   ],
   "source": [
    "print(\"\\nSpearman: \\n\", df.corr(method='spearman'))\n",
    "print(\"\\nSpearman\",stats.spearmanr(df['SYMPTOM_PRIMARY_encoded'], df['AQI']))\n",
    "#there is correlation between category and AQI"
   ]
  },
  {
   "cell_type": "code",
   "execution_count": 171,
   "metadata": {},
   "outputs": [
    {
     "name": "stdout",
     "output_type": "stream",
     "text": [
      "\n",
      "Kendall: \n",
      "                             ZIP_Code       AQI  SYMPTOM_PRIMARY_encoded  \\\n",
      "ZIP_Code                    1.000000 -0.074713                -0.003286   \n",
      "AQI                        -0.074713  1.000000                 0.003025   \n",
      "SYMPTOM_PRIMARY_encoded    -0.003286  0.003025                 1.000000   \n",
      "Category_encoded           -0.040098  0.636716                 0.003051   \n",
      "Defining_Parameter_encoded  0.113548 -0.001044                 0.011520   \n",
      "\n",
      "                            Category_encoded  Defining_Parameter_encoded  \n",
      "ZIP_Code                           -0.040098                    0.113548  \n",
      "AQI                                 0.636716                   -0.001044  \n",
      "SYMPTOM_PRIMARY_encoded             0.003051                    0.011520  \n",
      "Category_encoded                    1.000000                    0.162132  \n",
      "Defining_Parameter_encoded          0.162132                    1.000000  \n",
      "\n",
      "Kendall Tau KendalltauResult(correlation=0.0030250441107515917, pvalue=0.14746575408335086)\n"
     ]
    },
    {
     "name": "stderr",
     "output_type": "stream",
     "text": [
      "C:\\Users\\akshi\\anaconda3\\lib\\site-packages\\scipy\\stats\\stats.py:4812: RuntimeWarning: overflow encountered in longlong_scalars\n",
      "  (2 * xtie * ytie) / m + x0 * y0 / (9 * m * (size - 2)))\n"
     ]
    }
   ],
   "source": [
    "print(\"\\nKendall: \\n\", df.corr(method='kendall'))\n",
    "print(\"\\nKendall Tau\",stats.kendalltau(df['SYMPTOM_PRIMARY_encoded'], df['AQI']))"
   ]
  },
  {
   "cell_type": "code",
   "execution_count": 172,
   "metadata": {},
   "outputs": [],
   "source": [
    "#The best p-value we got is from the Pearson's correlation"
   ]
  },
  {
   "cell_type": "code",
   "execution_count": 173,
   "metadata": {},
   "outputs": [
    {
     "data": {
      "text/plain": [
       "<AxesSubplot:>"
      ]
     },
     "execution_count": 173,
     "metadata": {},
     "output_type": "execute_result"
    },
    {
     "data": {
      "image/png": "[encoded data removed]",
      "text/plain": [
       "<Figure size 432x288 with 2 Axes>"
      ]
     },
     "metadata": {
      "needs_background": "light"
     },
     "output_type": "display_data"
    }
   ],
   "source": [
    "#Doing the heat map of then correlation\n",
    "import seaborn as sns\n",
    "sns.heatmap(df.corr(), annot = True, fmt='.2g',cmap= 'coolwarm')\n",
    "#Hence, if AQI is high, number of unhealthy days increase. "
   ]
  },
  {
   "cell_type": "code",
   "execution_count": 174,
   "metadata": {},
   "outputs": [],
   "source": [
    "import numpy as np\n",
    "import pandas as pd"
   ]
  },
  {
   "cell_type": "code",
   "execution_count": 175,
   "metadata": {},
   "outputs": [],
   "source": [
    "import matplotlib.pyplot as plt\n",
    "import seaborn as sns\n",
    "%matplotlib inline"
   ]
  },
  {
   "cell_type": "code",
   "execution_count": 176,
   "metadata": {},
   "outputs": [
    {
     "data": {
      "text/plain": [
       "<AxesSubplot:xlabel='SYMPTOM_PRIMARY', ylabel='count'>"
      ]
     },
     "execution_count": 176,
     "metadata": {},
     "output_type": "execute_result"
    },
    {
     "data": {
      "image/png": "[encoded data removed]",
      "text/plain": [
       "<Figure size 432x288 with 1 Axes>"
      ]
     },
     "metadata": {
      "needs_background": "light"
     },
     "output_type": "display_data"
    }
   ],
   "source": [
    "sns.countplot(x='SYMPTOM_PRIMARY',data=df)"
   ]
  },
  {
   "cell_type": "code",
   "execution_count": 177,
   "metadata": {},
   "outputs": [
    {
     "data": {
      "text/plain": [
       "<AxesSubplot:xlabel='SYMPTOM_PRIMARY_encoded', ylabel='AQI'>"
      ]
     },
     "execution_count": 177,
     "metadata": {},
     "output_type": "execute_result"
    },
    {
     "data": {
      "image/png": "[encoded data removed]",
      "text/plain": [
       "<Figure size 864x504 with 1 Axes>"
      ]
     },
     "metadata": {
      "needs_background": "light"
     },
     "output_type": "display_data"
    }
   ],
   "source": [
    "plt.figure(figsize=(12, 7))\n",
    "sns.boxplot(x='SYMPTOM_PRIMARY_encoded',y='AQI',data=df ,palette='winter')"
   ]
  },
  {
   "cell_type": "code",
   "execution_count": 178,
   "metadata": {},
   "outputs": [
    {
     "name": "stdout",
     "output_type": "stream",
     "text": [
      "<class 'pandas.core.frame.DataFrame'>\n",
      "RangeIndex: 139154 entries, 0 to 139153\n",
      "Data columns (total 12 columns):\n",
      " #   Column                      Non-Null Count   Dtype \n",
      "---  ------                      --------------   ----- \n",
      " 0   SYMPTOM_PRIMARY             139154 non-null  object\n",
      " 1   Facility                    139154 non-null  object\n",
      " 2   City                        139154 non-null  object\n",
      " 3   ZIP_Code                    139154 non-null  int64 \n",
      " 4   County                      139154 non-null  object\n",
      " 5   Date                        139154 non-null  object\n",
      " 6   AQI                         139154 non-null  int64 \n",
      " 7   Category                    139154 non-null  object\n",
      " 8   Defining_Parameter          139154 non-null  object\n",
      " 9   SYMPTOM_PRIMARY_encoded     139154 non-null  int32 \n",
      " 10  Category_encoded            139154 non-null  int32 \n",
      " 11  Defining_Parameter_encoded  139154 non-null  int32 \n",
      "dtypes: int32(3), int64(2), object(7)\n",
      "memory usage: 11.1+ MB\n"
     ]
    }
   ],
   "source": [
    "df.info()"
   ]
  },
  {
   "cell_type": "code",
   "execution_count": 179,
   "metadata": {},
   "outputs": [],
   "source": [
    "df.drop('SYMPTOM_PRIMARY',axis=1,inplace=True)"
   ]
  },
  {
   "cell_type": "code",
   "execution_count": 180,
   "metadata": {},
   "outputs": [],
   "source": [
    "df.drop('Facility',axis=1,inplace=True)"
   ]
  },
  {
   "cell_type": "code",
   "execution_count": 181,
   "metadata": {},
   "outputs": [],
   "source": [
    "df.drop('City',axis=1,inplace=True)"
   ]
  },
  {
   "cell_type": "code",
   "execution_count": 182,
   "metadata": {},
   "outputs": [],
   "source": [
    "df.drop('ZIP_Code',axis=1,inplace=True)"
   ]
  },
  {
   "cell_type": "code",
   "execution_count": 183,
   "metadata": {},
   "outputs": [],
   "source": [
    "df.drop('County',axis=1,inplace=True)"
   ]
  },
  {
   "cell_type": "code",
   "execution_count": 184,
   "metadata": {},
   "outputs": [],
   "source": [
    "df.drop('Date',axis=1,inplace=True)"
   ]
  },
  {
   "cell_type": "code",
   "execution_count": 185,
   "metadata": {},
   "outputs": [],
   "source": [
    "df.drop('Category',axis=1,inplace=True)"
   ]
  },
  {
   "cell_type": "code",
   "execution_count": 186,
   "metadata": {},
   "outputs": [],
   "source": [
    "df.drop('Defining_Parameter',axis=1,inplace=True)"
   ]
  },
  {
   "cell_type": "code",
   "execution_count": 187,
   "metadata": {},
   "outputs": [
    {
     "data": {
      "text/plain": [
       "Index(['AQI', 'SYMPTOM_PRIMARY_encoded', 'Category_encoded',\n",
       "       'Defining_Parameter_encoded'],\n",
       "      dtype='object')"
      ]
     },
     "execution_count": 187,
     "metadata": {},
     "output_type": "execute_result"
    }
   ],
   "source": [
    "df.columns"
   ]
  },
  {
   "cell_type": "code",
   "execution_count": 188,
   "metadata": {},
   "outputs": [],
   "source": [
    "#performing Test Train Split\n",
    "#Data are fitted to a logit function in order to predict probabilities of events\n",
    "from sklearn.model_selection import train_test_split\n",
    "X_train, X_test, y_train, y_test = train_test_split(df.drop('Category_encoded',axis=1), \n",
    "                                                    df['Category_encoded'], test_size=0.30, \n",
    "                                                    random_state=101)"
   ]
  },
  {
   "cell_type": "code",
   "execution_count": 189,
   "metadata": {},
   "outputs": [
    {
     "name": "stderr",
     "output_type": "stream",
     "text": [
      "C:\\Users\\akshi\\anaconda3\\lib\\site-packages\\sklearn\\linear_model\\_logistic.py:763: ConvergenceWarning: lbfgs failed to converge (status=1):\n",
      "STOP: TOTAL NO. of ITERATIONS REACHED LIMIT.\n",
      "\n",
      "Increase the number of iterations (max_iter) or scale the data as shown in:\n",
      "    https://scikit-learn.org/stable/modules/preprocessing.html\n",
      "Please also refer to the documentation for alternative solver options:\n",
      "    https://scikit-learn.org/stable/modules/linear_model.html#logistic-regression\n",
      "  n_iter_i = _check_optimize_result(\n"
     ]
    }
   ],
   "source": [
    "from sklearn.linear_model import LogisticRegression\n",
    "logmodel = LogisticRegression()\n",
    "logmodel.fit(X_train,y_train)\n",
    "predictions = logmodel.predict(X_test)"
   ]
  },
  {
   "cell_type": "code",
   "execution_count": 190,
   "metadata": {},
   "outputs": [
    {
     "name": "stdout",
     "output_type": "stream",
     "text": [
      "              precision    recall  f1-score   support\n",
      "\n",
      "           0       0.99      1.00      0.99     30494\n",
      "           1       0.97      0.97      0.97     10868\n",
      "           2       0.62      0.27      0.38       385\n",
      "\n",
      "    accuracy                           0.98     41747\n",
      "   macro avg       0.86      0.75      0.78     41747\n",
      "weighted avg       0.98      0.98      0.98     41747\n",
      "\n"
     ]
    }
   ],
   "source": [
    "from sklearn.metrics import classification_report\n",
    "print(classification_report(y_test,predictions))\n",
    "#We have trained the model and generated a prediction \n",
    "#f-1 score is almost 1\n",
    "#And accuracy is 97%\n",
    "#specificity is precision, and recall is sensitivity\n",
    "#Prediction for unhealthy days is low, prbably because there are very few instance i.e., 385\n",
    "\n",
    "\n",
    "\n"
   ]
  },
  {
   "cell_type": "code",
   "execution_count": 191,
   "metadata": {},
   "outputs": [
    {
     "name": "stderr",
     "output_type": "stream",
     "text": [
      "C:\\Users\\akshi\\anaconda3\\lib\\site-packages\\statsmodels\\genmod\\families\\links.py:188: RuntimeWarning: overflow encountered in exp\n",
      "  t = np.exp(-z)\n"
     ]
    },
    {
     "data": {
      "text/plain": [
       "<AxesSubplot:xlabel='AQI', ylabel='Category_encoded'>"
      ]
     },
     "execution_count": 191,
     "metadata": {},
     "output_type": "execute_result"
    },
    {
     "data": {
      "image/png": "[encoded data removed]",
      "text/plain": [
       "<Figure size 432x288 with 1 Axes>"
      ]
     },
     "metadata": {
      "needs_background": "light"
     },
     "output_type": "display_data"
    }
   ],
   "source": [
    "#Plotting a logistic regression curve from \n",
    "#https://www.statology.org/logistic-regression/\n",
    "#https://www.statology.org/plot-logistic-regression-in-python/#:~:text=How%20to%20Plot%20a%20Logistic%20Regression%20Curve%20in,shows%20how%20to%20use%20this%20syntax%20in%20practice.\n",
    "#Data are fitted to a logit function in order to predict probabilities of events\n",
    "x = df['AQI']\n",
    "y = df['Category_encoded']\n",
    "#plot logistic regression curve\n",
    "sns.regplot(x=x, y=y, data=df, logistic=True, ci=None)"
   ]
  },
  {
   "cell_type": "code",
   "execution_count": 192,
   "metadata": {},
   "outputs": [
    {
     "data": {
      "text/plain": [
       "<AxesSubplot:xlabel='Defining_Parameter_encoded', ylabel='Category_encoded'>"
      ]
     },
     "execution_count": 192,
     "metadata": {},
     "output_type": "execute_result"
    },
    {
     "data": {
      "image/png": "[encoded data removed]",
      "text/plain": [
       "<Figure size 432x288 with 1 Axes>"
      ]
     },
     "metadata": {
      "needs_background": "light"
     },
     "output_type": "display_data"
    }
   ],
   "source": [
    "x = df['Defining_Parameter_encoded']\n",
    "y = df['Category_encoded']\n",
    "#plot logistic regression curve\n",
    "sns.regplot(x=x, y=y, data=df, logistic=True, ci=None)"
   ]
  },
  {
   "cell_type": "code",
   "execution_count": 193,
   "metadata": {},
   "outputs": [
    {
     "name": "stdout",
     "output_type": "stream",
     "text": [
      "0.9838551273145376\n",
      "              precision    recall  f1-score   support\n",
      "\n",
      "           0       0.99      1.00      0.99     30494\n",
      "           1       0.97      0.97      0.97     10868\n",
      "           2       0.62      0.27      0.38       385\n",
      "\n",
      "    accuracy                           0.98     41747\n",
      "   macro avg       0.86      0.75      0.78     41747\n",
      "weighted avg       0.98      0.98      0.98     41747\n",
      "\n"
     ]
    }
   ],
   "source": [
    "score = logmodel.score(X_test, y_test)\n",
    "print(score)\n",
    "from sklearn.metrics import classification_report\n",
    "print(classification_report(y_test, predictions))\n",
    "#accuracy is 98%"
   ]
  },
  {
   "cell_type": "code",
   "execution_count": 194,
   "metadata": {},
   "outputs": [
    {
     "data": {
      "image/png": "[encoded data removed]",
      "text/plain": [
       "<Figure size 648x648 with 2 Axes>"
      ]
     },
     "metadata": {
      "needs_background": "light"
     },
     "output_type": "display_data"
    }
   ],
   "source": [
    "import matplotlib.pyplot as plt\n",
    "import seaborn as sns\n",
    "from sklearn import metrics\n",
    "score = metrics.accuracy_score(y_test, predictions)\n",
    "cm = metrics.confusion_matrix(y_test, predictions)\n",
    "plt.figure(figsize=(9,9))\n",
    "sns.heatmap(cm, annot=True, fmt=\".3f\", linewidths=.5, square=True, cmap='Blues_r');\n",
    "plt.ylabel('Actual label');\n",
    "plt.xlabel('Predicted label');\n",
    "all_sample_title = 'Accuracy Score: {0}'.format(score)\n",
    "plt.title(all_sample_title, size = 15);\n",
    "\n",
    "#confusion matrix\n",
    "#most errors came when we tried to predict 2 (unhealthy)\n",
    "#\n"
   ]
  },
  {
   "cell_type": "code",
   "execution_count": 195,
   "metadata": {},
   "outputs": [
    {
     "name": "stdout",
     "output_type": "stream",
     "text": [
      "[[4]\n",
      " [4]\n",
      " [1]\n",
      " ...\n",
      " [2]\n",
      " [4]\n",
      " [2]]\n"
     ]
    }
   ],
   "source": [
    "x = df.iloc[:, 1:2].values \n",
    "print(x)\n",
    "y = df.iloc[:, 2].values  "
   ]
  },
  {
   "cell_type": "code",
   "execution_count": 196,
   "metadata": {},
   "outputs": [],
   "source": [
    "#target = list(df['Category_encoded'].unique())\n",
    "target = ['0', '1', '2']\n",
    "feature_names = list(df.drop('Category_encoded',axis=1).columns)"
   ]
  },
  {
   "cell_type": "code",
   "execution_count": 197,
   "metadata": {},
   "outputs": [],
   "source": [
    "from sklearn.naive_bayes import GaussianNB\n",
    "\n",
    "# train the Gaussian model\n",
    "clf = GaussianNB()\n",
    "clf.fit(X_train, y_train)\n",
    "\n",
    "# use the model to predict the labels of the test data\n",
    "predicted = clf.predict(X_test)\n",
    "expected = y_test\n",
    "\n",
    "# training RandomForest Classifier\n",
    "from sklearn.ensemble import RandomForestClassifier\n",
    "rfc = RandomForestClassifier()\n",
    "rfc.fit(X_train, y_train)\n",
    "\n",
    "# use the RFC model to predict the labels of the test data\n",
    "rfc_predicted = rfc.predict(X_test)\n",
    "rfc_expected = y_test"
   ]
  },
  {
   "cell_type": "code",
   "execution_count": 198,
   "metadata": {},
   "outputs": [
    {
     "name": "stdout",
     "output_type": "stream",
     "text": [
      "40899\n",
      "41747\n",
      "Overall Accuracy for GaussianNB =  0.9796871631494478\n",
      "Overall Accuracy for RFC =  1.0\n"
     ]
    }
   ],
   "source": [
    "matches = (predicted == expected)\n",
    "print(matches.sum())\n",
    "print(len(matches))\n",
    "\n",
    "print(\"Overall Accuracy for GaussianNB = \", matches.sum()/float(len(matches)))\n",
    "\n",
    "rfc_matches = (rfc_predicted == rfc_expected)\n",
    "print(\"Overall Accuracy for RFC = \", rfc_matches.sum()/float(len(rfc_matches)))"
   ]
  },
  {
   "cell_type": "code",
   "execution_count": 199,
   "metadata": {},
   "outputs": [
    {
     "name": "stdout",
     "output_type": "stream",
     "text": [
      "40899\n",
      "41747\n",
      "Overall Accuracy for GaussianNB =  0.9796871631494478\n",
      "Overall Accuracy for RFC =  1.0\n"
     ]
    }
   ],
   "source": [
    "matches = (predicted == expected)\n",
    "print(matches.sum())\n",
    "print(len(matches))\n",
    "\n",
    "print(\"Overall Accuracy for GaussianNB = \", matches.sum()/float(len(matches)))\n",
    "\n",
    "rfc_matches = (rfc_predicted == rfc_expected)\n",
    "print(\"Overall Accuracy for RFC = \", rfc_matches.sum()/float(len(rfc_matches)))"
   ]
  },
  {
   "cell_type": "code",
   "execution_count": 200,
   "metadata": {},
   "outputs": [
    {
     "name": "stdout",
     "output_type": "stream",
     "text": [
      "              precision    recall  f1-score   support\n",
      "\n",
      "           0       0.98      1.00      0.99     30494\n",
      "           1       1.00      0.92      0.96     10868\n",
      "           2       0.60      1.00      0.75       385\n",
      "\n",
      "    accuracy                           0.98     41747\n",
      "   macro avg       0.86      0.97      0.90     41747\n",
      "weighted avg       0.98      0.98      0.98     41747\n",
      "\n",
      "              precision    recall  f1-score   support\n",
      "\n",
      "           0       1.00      1.00      1.00     30494\n",
      "           1       1.00      1.00      1.00     10868\n",
      "           2       1.00      1.00      1.00       385\n",
      "\n",
      "    accuracy                           1.00     41747\n",
      "   macro avg       1.00      1.00      1.00     41747\n",
      "weighted avg       1.00      1.00      1.00     41747\n",
      "\n"
     ]
    }
   ],
   "source": [
    "from sklearn import metrics\n",
    "print(metrics.classification_report(expected, predicted))\n",
    "print(metrics.classification_report(rfc_expected, rfc_predicted))"
   ]
  },
  {
   "cell_type": "code",
   "execution_count": 201,
   "metadata": {},
   "outputs": [
    {
     "data": {
      "image/png": "[encoded data removed]",
      "text/plain": [
       "<Figure size 720x720 with 1 Axes>"
      ]
     },
     "metadata": {
      "needs_background": "light"
     },
     "output_type": "display_data"
    }
   ],
   "source": [
    "#Plotting an ROC curve\n",
    "plt.rcParams['figure.figsize'] = [10, 10]\n",
    "predicted_probas = clf.predict_proba(X_test)\n",
    "import matplotlib.pyplot as plt\n",
    "import scikitplot as skplt\n",
    "skplt.metrics.plot_roc(expected, predicted_probas)\n",
    "plt.show()"
   ]
  },
  {
   "cell_type": "code",
   "execution_count": 202,
   "metadata": {},
   "outputs": [
    {
     "data": {
      "text/plain": [
       "array([[<AxesSubplot:xlabel='AQI', ylabel='AQI'>,\n",
       "        <AxesSubplot:xlabel='SYMPTOM_PRIMARY_encoded', ylabel='AQI'>],\n",
       "       [<AxesSubplot:xlabel='AQI', ylabel='SYMPTOM_PRIMARY_encoded'>,\n",
       "        <AxesSubplot:xlabel='SYMPTOM_PRIMARY_encoded', ylabel='SYMPTOM_PRIMARY_encoded'>]],\n",
       "      dtype=object)"
      ]
     },
     "execution_count": 202,
     "metadata": {},
     "output_type": "execute_result"
    },
    {
     "data": {
      "image/png": "[encoded data removed]",
      "text/plain": [
       "<Figure size 720x720 with 4 Axes>"
      ]
     },
     "metadata": {
      "needs_background": "light"
     },
     "output_type": "display_data"
    }
   ],
   "source": [
    "df.drop('Defining_Parameter_encoded',axis=1,inplace=True)\n",
    "df.drop('Category_encoded',axis=1,inplace=True)\n",
    "\n",
    "pd.plotting.scatter_matrix(df, hist_kwds={'bins':30})\n"
   ]
  },
  {
   "cell_type": "code",
   "execution_count": 203,
   "metadata": {},
   "outputs": [],
   "source": [
    "#Random Forest Classifier"
   ]
  },
  {
   "cell_type": "code",
   "execution_count": 204,
   "metadata": {},
   "outputs": [],
   "source": [
    "from sklearn.ensemble import RandomForestClassifier\n",
    "\n",
    "#Create the Classifier\n",
    "clf=RandomForestClassifier(n_estimators=100)\n",
    "RandomForestClassifier(bootstrap=True, class_weight=None, criterion='entropy',\n",
    "max_depth=None, max_features='auto', max_leaf_nodes=None,\n",
    "min_impurity_decrease=0.0, min_impurity_split=None,\n",
    "min_samples_leaf=0.0, min_samples_split=2,\n",
    "min_weight_fraction_leaf=0.0, n_estimators=2, n_jobs=1,\n",
    "oob_score=False, random_state=0, verbose=0, warm_start=False)\n",
    "\n",
    "#Train the model using the training sets y_pred=clf.predict(X_test)\n",
    "clf.fit(X_train,y_train)\n",
    "\n",
    "y_pred=clf.predict(X_test)"
   ]
  },
  {
   "cell_type": "code",
   "execution_count": 205,
   "metadata": {},
   "outputs": [
    {
     "name": "stdout",
     "output_type": "stream",
     "text": [
      "Accuracy: 1.0\n"
     ]
    }
   ],
   "source": [
    "#Import scikit-learn metrics module for accuracy calculation\n",
    "from sklearn import metrics\n",
    "# Model Accuracy, how often is the classifier correct?\n",
    "print(\"Accuracy:\",metrics.accuracy_score(y_test, y_pred))"
   ]
  },
  {
   "cell_type": "code",
   "execution_count": 206,
   "metadata": {},
   "outputs": [
    {
     "name": "stdout",
     "output_type": "stream",
     "text": [
      "              precision    recall  f1-score   support\n",
      "\n",
      "           0       1.00      1.00      1.00     30494\n",
      "           1       1.00      1.00      1.00     10868\n",
      "           2       1.00      1.00      1.00       385\n",
      "\n",
      "    accuracy                           1.00     41747\n",
      "   macro avg       1.00      1.00      1.00     41747\n",
      "weighted avg       1.00      1.00      1.00     41747\n",
      "\n"
     ]
    }
   ],
   "source": [
    "from sklearn.metrics import classification_report\n",
    "print(classification_report(y_test,y_pred))"
   ]
  },
  {
   "cell_type": "code",
   "execution_count": 207,
   "metadata": {},
   "outputs": [
    {
     "name": "stdout",
     "output_type": "stream",
     "text": [
      "[[30494     0     0]\n",
      " [    0 10868     0]\n",
      " [    0     0   385]]\n"
     ]
    }
   ],
   "source": [
    "from sklearn.metrics import confusion_matrix\n",
    "cf_matrix = confusion_matrix(y_test, y_pred)\n",
    "print(cf_matrix)"
   ]
  },
  {
   "cell_type": "code",
   "execution_count": 208,
   "metadata": {},
   "outputs": [
    {
     "data": {
      "text/plain": [
       "<AxesSubplot:>"
      ]
     },
     "execution_count": 208,
     "metadata": {},
     "output_type": "execute_result"
    },
    {
     "data": {
      "image/png": "[encoded data removed]",
      "text/plain": [
       "<Figure size 720x720 with 2 Axes>"
      ]
     },
     "metadata": {
      "needs_background": "light"
     },
     "output_type": "display_data"
    }
   ],
   "source": [
    "sns.heatmap(cf_matrix, annot=True)"
   ]
  },
  {
   "cell_type": "code",
   "execution_count": 209,
   "metadata": {},
   "outputs": [],
   "source": [
    "def make_confusion_matrix(cf,\n",
    "                          group_names=None,\n",
    "                          categories='auto',\n",
    "                          count=True,\n",
    "                          percent=True,\n",
    "                          cbar=True,\n",
    "                          xyticks=True,\n",
    "                          xyplotlabels=True,\n",
    "                          sum_stats=True,\n",
    "                          figsize=None,\n",
    "                          cmap='Blues',\n",
    "                          title=None):\n",
    "    '''\n",
    "    This function will make a pretty plot of an sklearn Confusion Matrix cm using a Seaborn heatmap visualization.\n",
    "    Arguments\n",
    "    ---------\n",
    "    cf:            confusion matrix to be passed in\n",
    "    group_names:   List of strings that represent the labels row by row to be shown in each square.\n",
    "    categories:    List of strings containing the categories to be displayed on the x,y axis. Default is 'auto'\n",
    "    count:         If True, show the raw number in the confusion matrix. Default is True.\n",
    "    normalize:     If True, show the proportions for each category. Default is True.\n",
    "    cbar:          If True, show the color bar. The cbar values are based off the values in the confusion matrix.\n",
    "                   Default is True.\n",
    "    xyticks:       If True, show x and y ticks. Default is True.\n",
    "    xyplotlabels:  If True, show 'True Label' and 'Predicted Label' on the figure. Default is True.\n",
    "    sum_stats:     If True, display summary statistics below the figure. Default is True.\n",
    "    figsize:       Tuple representing the figure size. Default will be the matplotlib rcParams value.\n",
    "    cmap:          Colormap of the values displayed from matplotlib.pyplot.cm. Default is 'Blues'\n",
    "                   See http://matplotlib.org/examples/color/colormaps_reference.html\n",
    "                   \n",
    "    title:         Title for the heatmap. Default is None.\n",
    "    '''\n",
    "\n",
    "\n",
    "    # CODE TO GENERATE TEXT INSIDE EACH SQUARE\n",
    "    blanks = ['' for i in range(cf.size)]\n",
    "\n",
    "    if group_names and len(group_names)==cf.size:\n",
    "        group_labels = [\"{}\\n\".format(value) for value in group_names]\n",
    "    else:\n",
    "        group_labels = blanks\n",
    "\n",
    "    if count:\n",
    "        group_counts = [\"{0:0.0f}\\n\".format(value) for value in cf.flatten()]\n",
    "    else:\n",
    "        group_counts = blanks\n",
    "\n",
    "    if percent:\n",
    "        group_percentages = [\"{0:.2%}\".format(value) for value in cf.flatten()/np.sum(cf)]\n",
    "    else:\n",
    "        group_percentages = blanks\n",
    "\n",
    "    box_labels = [f\"{v1}{v2}{v3}\".strip() for v1, v2, v3 in zip(group_labels,group_counts,group_percentages)]\n",
    "    box_labels = np.asarray(box_labels).reshape(cf.shape[0],cf.shape[1])\n",
    "\n",
    "\n",
    "    # CODE TO GENERATE SUMMARY STATISTICS & TEXT FOR SUMMARY STATS\n",
    "    if sum_stats:\n",
    "        #Accuracy is sum of diagonal divided by total observations\n",
    "        accuracy  = np.trace(cf) / float(np.sum(cf))\n",
    "\n",
    "        #if it is a binary confusion matrix, show some more stats\n",
    "        if len(cf)==2:\n",
    "            #Metrics for Binary Confusion Matrices\n",
    "            precision = cf[1,1] / sum(cf[:,1])\n",
    "            recall    = cf[1,1] / sum(cf[1,:])\n",
    "            f1_score  = 2*precision*recall / (precision + recall)\n",
    "            stats_text = \"\\n\\nAccuracy={:0.3f}\\nPrecision={:0.3f}\\nRecall={:0.3f}\\nF1 Score={:0.3f}\".format(\n",
    "                accuracy,precision,recall,f1_score)\n",
    "        else:\n",
    "            stats_text = \"\\n\\nAccuracy={:0.3f}\".format(accuracy)\n",
    "    else:\n",
    "        stats_text = \"\"\n",
    "\n",
    "\n",
    "    # SET FIGURE PARAMETERS ACCORDING TO OTHER ARGUMENTS\n",
    "    if figsize==None:\n",
    "        #Get default figure size if not set\n",
    "        figsize = plt.rcParams.get('figure.figsize')\n",
    "\n",
    "    if xyticks==False:\n",
    "        #Do not show categories if xyticks is False\n",
    "        categories=False\n",
    "\n",
    "\n",
    "    # MAKE THE HEATMAP VISUALIZATION\n",
    "    plt.figure(figsize=figsize)\n",
    "    sns.heatmap(cf,annot=box_labels,fmt=\"\",cmap=cmap,cbar=cbar,xticklabels=categories,yticklabels=categories)\n",
    "\n",
    "    if xyplotlabels:\n",
    "        plt.ylabel('True label')\n",
    "        plt.xlabel('Predicted label' + stats_text)\n",
    "    else:\n",
    "        plt.xlabel(stats_text)\n",
    "    \n",
    "    if title:\n",
    "        plt.title(title)"
   ]
  },
  {
   "cell_type": "code",
   "execution_count": 210,
   "metadata": {},
   "outputs": [
    {
     "data": {
      "image/png": "[encoded data removed]",
      "text/plain": [
       "<Figure size 576x432 with 1 Axes>"
      ]
     },
     "metadata": {
      "needs_background": "light"
     },
     "output_type": "display_data"
    }
   ],
   "source": [
    "make_confusion_matrix(cf_matrix, figsize=(8,6), cbar=False)"
   ]
  },
  {
   "cell_type": "code",
   "execution_count": 211,
   "metadata": {},
   "outputs": [],
   "source": [
    "# Naive Bayes Classifier"
   ]
  },
  {
   "cell_type": "code",
   "execution_count": 212,
   "metadata": {},
   "outputs": [],
   "source": [
    "#Import Gaussian Naive Bayes model\n",
    "from sklearn.naive_bayes import GaussianNB\n",
    "\n",
    "#Create a Gaussian Classifier\n",
    "gnb = GaussianNB()\n",
    "\n",
    "#Train the model using the training sets\n",
    "gnb.fit(X_train, y_train)\n",
    "\n",
    "#Predict the response for test dataset\n",
    "y_pred = gnb.predict(X_test)"
   ]
  },
  {
   "cell_type": "code",
   "execution_count": 213,
   "metadata": {},
   "outputs": [
    {
     "name": "stdout",
     "output_type": "stream",
     "text": [
      "Accuracy: 0.9796871631494478\n"
     ]
    }
   ],
   "source": [
    "from sklearn import metrics\n",
    "\n",
    "# Model Accuracy, how often is the classifier correct?\n",
    "print(\"Accuracy:\",metrics.accuracy_score(y_test, y_pred))"
   ]
  },
  {
   "cell_type": "code",
   "execution_count": 214,
   "metadata": {},
   "outputs": [
    {
     "name": "stdout",
     "output_type": "stream",
     "text": [
      "              precision    recall  f1-score   support\n",
      "\n",
      "           0       0.98      1.00      0.99     30494\n",
      "           1       1.00      0.92      0.96     10868\n",
      "           2       0.60      1.00      0.75       385\n",
      "\n",
      "    accuracy                           0.98     41747\n",
      "   macro avg       0.86      0.97      0.90     41747\n",
      "weighted avg       0.98      0.98      0.98     41747\n",
      "\n"
     ]
    }
   ],
   "source": [
    "from sklearn.metrics import classification_report\n",
    "print(classification_report(y_test,y_pred))"
   ]
  },
  {
   "cell_type": "code",
   "execution_count": 215,
   "metadata": {},
   "outputs": [
    {
     "name": "stdout",
     "output_type": "stream",
     "text": [
      "[[30494     0     0]\n",
      " [  588 10020   260]\n",
      " [    0     0   385]]\n"
     ]
    }
   ],
   "source": [
    "cf_matrix = confusion_matrix(y_test, y_pred)\n",
    "print(cf_matrix)"
   ]
  },
  {
   "cell_type": "code",
   "execution_count": 216,
   "metadata": {},
   "outputs": [
    {
     "data": {
      "image/png": "[encoded data removed]",
      "text/plain": [
       "<Figure size 576x432 with 1 Axes>"
      ]
     },
     "metadata": {
      "needs_background": "light"
     },
     "output_type": "display_data"
    }
   ],
   "source": [
    "make_confusion_matrix(cf_matrix, figsize=(8,6), cbar=False)"
   ]
  },
  {
   "cell_type": "code",
   "execution_count": 217,
   "metadata": {},
   "outputs": [],
   "source": [
    "# Naive Bayes Classifier showing that it isn't able to predict the data with label 1 (Moderate days) accurately. \n",
    "# Moderate days were predicted as 0 (Good) and 2 (Unhealthy). Refer to second row."
   ]
  },
  {
   "cell_type": "code",
   "execution_count": 218,
   "metadata": {},
   "outputs": [],
   "source": [
    "# SGD Classifier"
   ]
  },
  {
   "cell_type": "code",
   "execution_count": 219,
   "metadata": {},
   "outputs": [
    {
     "name": "stdout",
     "output_type": "stream",
     "text": [
      "SGDClassifier()\n"
     ]
    }
   ],
   "source": [
    "from sklearn.linear_model import SGDClassifier\n",
    "sgdc = SGDClassifier()\n",
    "print(sgdc)\n",
    " \n",
    "sgdc.fit(X_train, y_train)\n",
    "\n",
    "y_pred = sgdc.predict(X_test)"
   ]
  },
  {
   "cell_type": "code",
   "execution_count": 220,
   "metadata": {},
   "outputs": [
    {
     "name": "stdout",
     "output_type": "stream",
     "text": [
      "Accuracy: 0.9808369463674036\n"
     ]
    }
   ],
   "source": [
    "from sklearn import metrics\n",
    "\n",
    "# Model Accuracy, how often is the classifier correct?\n",
    "print(\"Accuracy:\",metrics.accuracy_score(y_test, y_pred))"
   ]
  },
  {
   "cell_type": "code",
   "execution_count": 221,
   "metadata": {},
   "outputs": [
    {
     "name": "stdout",
     "output_type": "stream",
     "text": [
      "              precision    recall  f1-score   support\n",
      "\n",
      "           0       0.99      1.00      0.99     30494\n",
      "           1       0.95      0.97      0.96     10868\n",
      "           2       0.00      0.00      0.00       385\n",
      "\n",
      "    accuracy                           0.98     41747\n",
      "   macro avg       0.65      0.66      0.65     41747\n",
      "weighted avg       0.97      0.98      0.98     41747\n",
      "\n"
     ]
    },
    {
     "name": "stderr",
     "output_type": "stream",
     "text": [
      "C:\\Users\\akshi\\anaconda3\\lib\\site-packages\\sklearn\\metrics\\_classification.py:1248: UndefinedMetricWarning: Precision and F-score are ill-defined and being set to 0.0 in labels with no predicted samples. Use `zero_division` parameter to control this behavior.\n",
      "  _warn_prf(average, modifier, msg_start, len(result))\n",
      "C:\\Users\\akshi\\anaconda3\\lib\\site-packages\\sklearn\\metrics\\_classification.py:1248: UndefinedMetricWarning: Precision and F-score are ill-defined and being set to 0.0 in labels with no predicted samples. Use `zero_division` parameter to control this behavior.\n",
      "  _warn_prf(average, modifier, msg_start, len(result))\n",
      "C:\\Users\\akshi\\anaconda3\\lib\\site-packages\\sklearn\\metrics\\_classification.py:1248: UndefinedMetricWarning: Precision and F-score are ill-defined and being set to 0.0 in labels with no predicted samples. Use `zero_division` parameter to control this behavior.\n",
      "  _warn_prf(average, modifier, msg_start, len(result))\n"
     ]
    }
   ],
   "source": [
    "from sklearn.metrics import classification_report\n",
    "print(classification_report(y_test,y_pred))"
   ]
  },
  {
   "cell_type": "code",
   "execution_count": 222,
   "metadata": {},
   "outputs": [
    {
     "name": "stdout",
     "output_type": "stream",
     "text": [
      "[[30374   120     0]\n",
      " [  295 10573     0]\n",
      " [    0   385     0]]\n"
     ]
    }
   ],
   "source": [
    "cf_matrix = confusion_matrix(y_test, y_pred)\n",
    "print(cf_matrix)"
   ]
  },
  {
   "cell_type": "code",
   "execution_count": 223,
   "metadata": {},
   "outputs": [
    {
     "data": {
      "image/png": "[encoded data removed]",
      "text/plain": [
       "<Figure size 576x432 with 1 Axes>"
      ]
     },
     "metadata": {
      "needs_background": "light"
     },
     "output_type": "display_data"
    }
   ],
   "source": [
    "make_confusion_matrix(cf_matrix, figsize=(8,6), cbar=False)"
   ]
  },
  {
   "cell_type": "code",
   "execution_count": 224,
   "metadata": {},
   "outputs": [],
   "source": [
    "# XGBoost"
   ]
  },
  {
   "cell_type": "code",
   "execution_count": 225,
   "metadata": {},
   "outputs": [
    {
     "name": "stdout",
     "output_type": "stream",
     "text": [
      "Requirement already satisfied: xgboost in c:\\users\\akshi\\anaconda3\\lib\\site-packages (1.5.1)\n",
      "Requirement already satisfied: numpy in c:\\users\\akshi\\anaconda3\\lib\\site-packages (from xgboost) (1.20.3)\n",
      "Requirement already satisfied: scipy in c:\\users\\akshi\\anaconda3\\lib\\site-packages (from xgboost) (1.7.1)\n"
     ]
    }
   ],
   "source": [
    "!pip install xgboost"
   ]
  },
  {
   "cell_type": "code",
   "execution_count": 226,
   "metadata": {},
   "outputs": [],
   "source": [
    "from xgboost import XGBClassifier"
   ]
  },
  {
   "cell_type": "code",
   "execution_count": 227,
   "metadata": {},
   "outputs": [
    {
     "name": "stdout",
     "output_type": "stream",
     "text": [
      "[18:11:17] WARNING: C:/Users/Administrator/workspace/xgboost-win64_release_1.5.1/src/learner.cc:1115: Starting in XGBoost 1.3.0, the default evaluation metric used with the objective 'multi:softprob' was changed from 'merror' to 'mlogloss'. Explicitly set eval_metric if you'd like to restore the old behavior.\n"
     ]
    },
    {
     "name": "stderr",
     "output_type": "stream",
     "text": [
      "C:\\Users\\akshi\\anaconda3\\lib\\site-packages\\xgboost\\sklearn.py:1224: UserWarning: The use of label encoder in XGBClassifier is deprecated and will be removed in a future release. To remove this warning, do the following: 1) Pass option use_label_encoder=False when constructing XGBClassifier object; and 2) Encode your labels (y) as integers starting with 0, i.e. 0, 1, 2, ..., [num_class - 1].\n",
      "  warnings.warn(label_encoder_deprecation_msg, UserWarning)\n"
     ]
    },
    {
     "data": {
      "text/plain": [
       "XGBClassifier(base_score=0.5, booster='gbtree', colsample_bylevel=1,\n",
       "              colsample_bynode=1, colsample_bytree=1, enable_categorical=False,\n",
       "              gamma=0, gpu_id=-1, importance_type=None,\n",
       "              interaction_constraints='', learning_rate=0.300000012,\n",
       "              max_delta_step=0, max_depth=6, min_child_weight=1, missing=nan,\n",
       "              monotone_constraints='()', n_estimators=100, n_jobs=8,\n",
       "              num_parallel_tree=1, objective='multi:softprob', predictor='auto',\n",
       "              random_state=0, reg_alpha=0, reg_lambda=1, scale_pos_weight=None,\n",
       "              subsample=1, tree_method='exact', validate_parameters=1,\n",
       "              verbosity=None)"
      ]
     },
     "execution_count": 227,
     "metadata": {},
     "output_type": "execute_result"
    }
   ],
   "source": [
    "model = XGBClassifier()\n",
    "model.fit(X_train, y_train)"
   ]
  },
  {
   "cell_type": "code",
   "execution_count": 228,
   "metadata": {},
   "outputs": [],
   "source": [
    "y_pred = model.predict(X_test)"
   ]
  },
  {
   "cell_type": "code",
   "execution_count": 229,
   "metadata": {},
   "outputs": [
    {
     "name": "stdout",
     "output_type": "stream",
     "text": [
      "Accuracy: 1.0\n",
      "              precision    recall  f1-score   support\n",
      "\n",
      "           0       1.00      1.00      1.00     30494\n",
      "           1       1.00      1.00      1.00     10868\n",
      "           2       1.00      1.00      1.00       385\n",
      "\n",
      "    accuracy                           1.00     41747\n",
      "   macro avg       1.00      1.00      1.00     41747\n",
      "weighted avg       1.00      1.00      1.00     41747\n",
      "\n"
     ]
    }
   ],
   "source": [
    "# Model Accuracy, how often is the classifier correct?\n",
    "print(\"Accuracy:\",metrics.accuracy_score(y_test, y_pred))\n",
    "\n",
    "from sklearn.metrics import classification_report\n",
    "print(classification_report(y_test,y_pred))"
   ]
  },
  {
   "cell_type": "code",
   "execution_count": 230,
   "metadata": {},
   "outputs": [
    {
     "name": "stdout",
     "output_type": "stream",
     "text": [
      "[[30494     0     0]\n",
      " [    0 10868     0]\n",
      " [    0     0   385]]\n"
     ]
    }
   ],
   "source": [
    "cf_matrix = confusion_matrix(y_test, y_pred)\n",
    "print(cf_matrix)"
   ]
  },
  {
   "cell_type": "code",
   "execution_count": 231,
   "metadata": {},
   "outputs": [
    {
     "data": {
      "image/png": "[encoded data removed]",
      "text/plain": [
       "<Figure size 576x432 with 1 Axes>"
      ]
     },
     "metadata": {
      "needs_background": "light"
     },
     "output_type": "display_data"
    }
   ],
   "source": [
    "make_confusion_matrix(cf_matrix, figsize=(8,6), cbar=False)"
   ]
  },
  {
   "cell_type": "code",
   "execution_count": 232,
   "metadata": {},
   "outputs": [
    {
     "name": "stdout",
     "output_type": "stream",
     "text": [
      "Accuracy: 1.0\n",
      "              precision    recall  f1-score   support\n",
      "\n",
      "           0       1.00      1.00      1.00     30494\n",
      "           1       1.00      1.00      1.00     10868\n",
      "           2       1.00      1.00      1.00       385\n",
      "\n",
      "    accuracy                           1.00     41747\n",
      "   macro avg       1.00      1.00      1.00     41747\n",
      "weighted avg       1.00      1.00      1.00     41747\n",
      "\n"
     ]
    }
   ],
   "source": [
    "# Import Decision Tree Classifier\n",
    "from sklearn.tree import DecisionTreeClassifier \n",
    "\n",
    "# Create Decision Tree classifer object\n",
    "clf = DecisionTreeClassifier()\n",
    "\n",
    "# Train Decision Tree Classifer\n",
    "clf = clf.fit(X_train,y_train)\n",
    "\n",
    "#Predict the response for test dataset\n",
    "y_pred = clf.predict(X_test)\n",
    "\n",
    "from sklearn import metrics\n",
    "\n",
    "# Model Accuracy, how often is the classifier correct?\n",
    "print(\"Accuracy:\",metrics.accuracy_score(y_test, y_pred))\n",
    "\n",
    "from sklearn.metrics import classification_report\n",
    "print(classification_report(y_test,y_pred))"
   ]
  },
  {
   "cell_type": "code",
   "execution_count": 233,
   "metadata": {},
   "outputs": [
    {
     "name": "stdout",
     "output_type": "stream",
     "text": [
      "[[30494     0     0]\n",
      " [    0 10868     0]\n",
      " [    0     0   385]]\n"
     ]
    }
   ],
   "source": [
    "cf_matrix = confusion_matrix(y_test, y_pred)\n",
    "print(cf_matrix)"
   ]
  },
  {
   "cell_type": "code",
   "execution_count": 234,
   "metadata": {},
   "outputs": [
    {
     "data": {
      "image/png": "[encoded data removed]",
      "text/plain": [
       "<Figure size 576x432 with 1 Axes>"
      ]
     },
     "metadata": {
      "needs_background": "light"
     },
     "output_type": "display_data"
    }
   ],
   "source": [
    "make_confusion_matrix(cf_matrix, figsize=(8,6), cbar=False)"
   ]
  },
  {
   "cell_type": "code",
   "execution_count": null,
   "metadata": {},
   "outputs": [],
   "source": []
  },
  {
   "cell_type": "code",
   "execution_count": null,
   "metadata": {},
   "outputs": [],
   "source": []
  },
  {
   "cell_type": "code",
   "execution_count": null,
   "metadata": {},
   "outputs": [],
   "source": []
  },
  {
   "cell_type": "code",
   "execution_count": null,
   "metadata": {},
   "outputs": [],
   "source": []
  }
 ],
 "metadata": {
  "kernelspec": {
   "display_name": "Python 3 (ipykernel)",
   "language": "python",
   "name": "python3"
  },
  "language_info": {
   "codemirror_mode": {
    "name": "ipython",
    "version": 3
   },
   "file_extension": ".py",
   "mimetype": "text/x-python",
   "name": "python",
   "nbconvert_exporter": "python",
   "pygments_lexer": "ipython3",
   "version": "3.9.7"
  }
 },
 "nbformat": 4,
 "nbformat_minor": 4
}
